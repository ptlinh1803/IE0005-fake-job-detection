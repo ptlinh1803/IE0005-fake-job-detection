{
 "cells": [
  {
   "cell_type": "code",
   "execution_count": 1,
   "id": "75c8d871",
   "metadata": {},
   "outputs": [],
   "source": [
    "import numpy as np\n",
    "import matplotlib.pyplot as plt\n",
    "import pandas as pd\n",
    "import seaborn as sb\n",
    "import string\n",
    "import re\n",
    "import nltk\n",
    "from nltk.corpus import stopwords\n",
    "from nltk.stem.porter import PorterStemmer\n",
    "from nltk.tokenize import word_tokenize\n",
    "from nltk.stem import SnowballStemmer\n",
    "from nltk.stem import WordNetLemmatizer"
   ]
  },
  {
   "cell_type": "code",
   "execution_count": 2,
   "id": "6b96d7f1",
   "metadata": {},
   "outputs": [],
   "source": [
    "from sklearn.linear_model import LogisticRegression\n",
    "from sklearn.ensemble import RandomForestClassifier\n",
    "from sklearn.naive_bayes import GaussianNB\n",
    "from sklearn.svm import SVC\n",
    "from sklearn.neighbors import KNeighborsClassifier\n",
    "from sklearn.tree import DecisionTreeClassifier\n",
    "from xgboost import XGBClassifier"
   ]
  },
  {
   "cell_type": "code",
   "execution_count": 3,
   "id": "5a8ae052",
   "metadata": {},
   "outputs": [],
   "source": [
    "from sklearn.feature_extraction.text import TfidfVectorizer, CountVectorizer\n",
    "from sklearn.model_selection import train_test_split\n",
    "from sklearn.pipeline import Pipeline\n",
    "from sklearn.base import TransformerMixin\n",
    "from sklearn.metrics import accuracy_score, recall_score, plot_confusion_matrix, classification_report, confusion_matrix, fbeta_score, precision_score, roc_curve, roc_auc_score, RocCurveDisplay, PrecisionRecallDisplay, precision_recall_curve"
   ]
  },
  {
   "cell_type": "code",
   "execution_count": 4,
   "id": "5b0a8db3",
   "metadata": {},
   "outputs": [],
   "source": [
    "import imblearn"
   ]
  },
  {
   "cell_type": "markdown",
   "id": "3e3d53e6",
   "metadata": {},
   "source": [
    "# Data cleaning & prepocessing"
   ]
  },
  {
   "cell_type": "markdown",
   "id": "ff6f0555",
   "metadata": {},
   "source": [
    "### Import data"
   ]
  },
  {
   "cell_type": "code",
   "execution_count": 5,
   "id": "125d4b02",
   "metadata": {},
   "outputs": [],
   "source": [
    "df = pd.read_csv(\"fake_job_postings.csv\", skipinitialspace = True)"
   ]
  },
  {
   "cell_type": "code",
   "execution_count": 6,
   "id": "8de669f2",
   "metadata": {},
   "outputs": [
    {
     "name": "stdout",
     "output_type": "stream",
     "text": [
      "<class 'pandas.core.frame.DataFrame'>\n",
      "RangeIndex: 17880 entries, 0 to 17879\n",
      "Data columns (total 18 columns):\n",
      " #   Column               Non-Null Count  Dtype \n",
      "---  ------               --------------  ----- \n",
      " 0   job_id               17880 non-null  int64 \n",
      " 1   title                17880 non-null  object\n",
      " 2   location             17534 non-null  object\n",
      " 3   department           6327 non-null   object\n",
      " 4   salary_range         2868 non-null   object\n",
      " 5   company_profile      14572 non-null  object\n",
      " 6   description          17879 non-null  object\n",
      " 7   requirements         15185 non-null  object\n",
      " 8   benefits             10670 non-null  object\n",
      " 9   telecommuting        17880 non-null  int64 \n",
      " 10  has_company_logo     17880 non-null  int64 \n",
      " 11  has_questions        17880 non-null  int64 \n",
      " 12  employment_type      14409 non-null  object\n",
      " 13  required_experience  10830 non-null  object\n",
      " 14  required_education   9775 non-null   object\n",
      " 15  industry             12977 non-null  object\n",
      " 16  function             11425 non-null  object\n",
      " 17  fraudulent           17880 non-null  int64 \n",
      "dtypes: int64(5), object(13)\n",
      "memory usage: 2.5+ MB\n"
     ]
    }
   ],
   "source": [
    "df.info()"
   ]
  },
  {
   "cell_type": "code",
   "execution_count": 7,
   "id": "d91ad1ce",
   "metadata": {},
   "outputs": [],
   "source": [
    "df=df.replace(np.nan,\"\")"
   ]
  },
  {
   "cell_type": "code",
   "execution_count": 8,
   "id": "ad0adc2e",
   "metadata": {},
   "outputs": [
    {
     "data": {
      "text/html": [
       "<div>\n",
       "<style scoped>\n",
       "    .dataframe tbody tr th:only-of-type {\n",
       "        vertical-align: middle;\n",
       "    }\n",
       "\n",
       "    .dataframe tbody tr th {\n",
       "        vertical-align: top;\n",
       "    }\n",
       "\n",
       "    .dataframe thead th {\n",
       "        text-align: right;\n",
       "    }\n",
       "</style>\n",
       "<table border=\"1\" class=\"dataframe\">\n",
       "  <thead>\n",
       "    <tr style=\"text-align: right;\">\n",
       "      <th></th>\n",
       "      <th>job_id</th>\n",
       "      <th>title</th>\n",
       "      <th>location</th>\n",
       "      <th>department</th>\n",
       "      <th>salary_range</th>\n",
       "      <th>company_profile</th>\n",
       "      <th>description</th>\n",
       "      <th>requirements</th>\n",
       "      <th>benefits</th>\n",
       "      <th>telecommuting</th>\n",
       "      <th>has_company_logo</th>\n",
       "      <th>has_questions</th>\n",
       "      <th>employment_type</th>\n",
       "      <th>required_experience</th>\n",
       "      <th>required_education</th>\n",
       "      <th>industry</th>\n",
       "      <th>function</th>\n",
       "      <th>fraudulent</th>\n",
       "    </tr>\n",
       "  </thead>\n",
       "  <tbody>\n",
       "    <tr>\n",
       "      <th>0</th>\n",
       "      <td>1</td>\n",
       "      <td>Marketing Intern</td>\n",
       "      <td>US, NY, New York</td>\n",
       "      <td>Marketing</td>\n",
       "      <td></td>\n",
       "      <td>We're Food52, and we've created a groundbreaki...</td>\n",
       "      <td>Food52, a fast-growing, James Beard Award-winn...</td>\n",
       "      <td>Experience with content management systems a m...</td>\n",
       "      <td></td>\n",
       "      <td>0</td>\n",
       "      <td>1</td>\n",
       "      <td>0</td>\n",
       "      <td>Other</td>\n",
       "      <td>Internship</td>\n",
       "      <td></td>\n",
       "      <td></td>\n",
       "      <td>Marketing</td>\n",
       "      <td>0</td>\n",
       "    </tr>\n",
       "    <tr>\n",
       "      <th>1</th>\n",
       "      <td>2</td>\n",
       "      <td>Customer Service - Cloud Video Production</td>\n",
       "      <td>NZ, , Auckland</td>\n",
       "      <td>Success</td>\n",
       "      <td></td>\n",
       "      <td>90 Seconds, the worlds Cloud Video Production ...</td>\n",
       "      <td>Organised - Focused - Vibrant - Awesome!Do you...</td>\n",
       "      <td>What we expect from you:Your key responsibilit...</td>\n",
       "      <td>What you will get from usThrough being part of...</td>\n",
       "      <td>0</td>\n",
       "      <td>1</td>\n",
       "      <td>0</td>\n",
       "      <td>Full-time</td>\n",
       "      <td>Not Applicable</td>\n",
       "      <td></td>\n",
       "      <td>Marketing and Advertising</td>\n",
       "      <td>Customer Service</td>\n",
       "      <td>0</td>\n",
       "    </tr>\n",
       "    <tr>\n",
       "      <th>2</th>\n",
       "      <td>3</td>\n",
       "      <td>Commissioning Machinery Assistant (CMA)</td>\n",
       "      <td>US, IA, Wever</td>\n",
       "      <td></td>\n",
       "      <td></td>\n",
       "      <td>Valor Services provides Workforce Solutions th...</td>\n",
       "      <td>Our client, located in Houston, is actively se...</td>\n",
       "      <td>Implement pre-commissioning and commissioning ...</td>\n",
       "      <td></td>\n",
       "      <td>0</td>\n",
       "      <td>1</td>\n",
       "      <td>0</td>\n",
       "      <td></td>\n",
       "      <td></td>\n",
       "      <td></td>\n",
       "      <td></td>\n",
       "      <td></td>\n",
       "      <td>0</td>\n",
       "    </tr>\n",
       "    <tr>\n",
       "      <th>3</th>\n",
       "      <td>4</td>\n",
       "      <td>Account Executive - Washington DC</td>\n",
       "      <td>US, DC, Washington</td>\n",
       "      <td>Sales</td>\n",
       "      <td></td>\n",
       "      <td>Our passion for improving quality of life thro...</td>\n",
       "      <td>THE COMPANY: ESRI – Environmental Systems Rese...</td>\n",
       "      <td>EDUCATION: Bachelor’s or Master’s in GIS, busi...</td>\n",
       "      <td>Our culture is anything but corporate—we have ...</td>\n",
       "      <td>0</td>\n",
       "      <td>1</td>\n",
       "      <td>0</td>\n",
       "      <td>Full-time</td>\n",
       "      <td>Mid-Senior level</td>\n",
       "      <td>Bachelor's Degree</td>\n",
       "      <td>Computer Software</td>\n",
       "      <td>Sales</td>\n",
       "      <td>0</td>\n",
       "    </tr>\n",
       "    <tr>\n",
       "      <th>4</th>\n",
       "      <td>5</td>\n",
       "      <td>Bill Review Manager</td>\n",
       "      <td>US, FL, Fort Worth</td>\n",
       "      <td></td>\n",
       "      <td></td>\n",
       "      <td>SpotSource Solutions LLC is a Global Human Cap...</td>\n",
       "      <td>JOB TITLE: Itemization Review ManagerLOCATION:...</td>\n",
       "      <td>QUALIFICATIONS:RN license in the State of Texa...</td>\n",
       "      <td>Full Benefits Offered</td>\n",
       "      <td>0</td>\n",
       "      <td>1</td>\n",
       "      <td>1</td>\n",
       "      <td>Full-time</td>\n",
       "      <td>Mid-Senior level</td>\n",
       "      <td>Bachelor's Degree</td>\n",
       "      <td>Hospital &amp; Health Care</td>\n",
       "      <td>Health Care Provider</td>\n",
       "      <td>0</td>\n",
       "    </tr>\n",
       "  </tbody>\n",
       "</table>\n",
       "</div>"
      ],
      "text/plain": [
       "   job_id                                      title            location  \\\n",
       "0       1                           Marketing Intern    US, NY, New York   \n",
       "1       2  Customer Service - Cloud Video Production      NZ, , Auckland   \n",
       "2       3    Commissioning Machinery Assistant (CMA)       US, IA, Wever   \n",
       "3       4          Account Executive - Washington DC  US, DC, Washington   \n",
       "4       5                        Bill Review Manager  US, FL, Fort Worth   \n",
       "\n",
       "  department salary_range                                    company_profile  \\\n",
       "0  Marketing               We're Food52, and we've created a groundbreaki...   \n",
       "1    Success               90 Seconds, the worlds Cloud Video Production ...   \n",
       "2                          Valor Services provides Workforce Solutions th...   \n",
       "3      Sales               Our passion for improving quality of life thro...   \n",
       "4                          SpotSource Solutions LLC is a Global Human Cap...   \n",
       "\n",
       "                                         description  \\\n",
       "0  Food52, a fast-growing, James Beard Award-winn...   \n",
       "1  Organised - Focused - Vibrant - Awesome!Do you...   \n",
       "2  Our client, located in Houston, is actively se...   \n",
       "3  THE COMPANY: ESRI – Environmental Systems Rese...   \n",
       "4  JOB TITLE: Itemization Review ManagerLOCATION:...   \n",
       "\n",
       "                                        requirements  \\\n",
       "0  Experience with content management systems a m...   \n",
       "1  What we expect from you:Your key responsibilit...   \n",
       "2  Implement pre-commissioning and commissioning ...   \n",
       "3  EDUCATION: Bachelor’s or Master’s in GIS, busi...   \n",
       "4  QUALIFICATIONS:RN license in the State of Texa...   \n",
       "\n",
       "                                            benefits  telecommuting  \\\n",
       "0                                                                 0   \n",
       "1  What you will get from usThrough being part of...              0   \n",
       "2                                                                 0   \n",
       "3  Our culture is anything but corporate—we have ...              0   \n",
       "4                              Full Benefits Offered              0   \n",
       "\n",
       "   has_company_logo  has_questions employment_type required_experience  \\\n",
       "0                 1              0           Other          Internship   \n",
       "1                 1              0       Full-time      Not Applicable   \n",
       "2                 1              0                                       \n",
       "3                 1              0       Full-time    Mid-Senior level   \n",
       "4                 1              1       Full-time    Mid-Senior level   \n",
       "\n",
       "  required_education                   industry              function  \\\n",
       "0                                                           Marketing   \n",
       "1                     Marketing and Advertising      Customer Service   \n",
       "2                                                                       \n",
       "3  Bachelor's Degree          Computer Software                 Sales   \n",
       "4  Bachelor's Degree     Hospital & Health Care  Health Care Provider   \n",
       "\n",
       "   fraudulent  \n",
       "0           0  \n",
       "1           0  \n",
       "2           0  \n",
       "3           0  \n",
       "4           0  "
      ]
     },
     "execution_count": 8,
     "metadata": {},
     "output_type": "execute_result"
    }
   ],
   "source": [
    "df.head()"
   ]
  },
  {
   "cell_type": "markdown",
   "id": "6becce14",
   "metadata": {},
   "source": [
    "### Remove unneccesary columns"
   ]
  },
  {
   "cell_type": "code",
   "execution_count": 9,
   "id": "734c19b3",
   "metadata": {},
   "outputs": [],
   "source": [
    "columns=['job_id', 'telecommuting', 'has_questions', 'salary_range']\n",
    "for col in columns:\n",
    "    del df[col]"
   ]
  },
  {
   "cell_type": "markdown",
   "id": "9c38510e",
   "metadata": {},
   "source": [
    "### Format company logo column"
   ]
  },
  {
   "cell_type": "code",
   "execution_count": 10,
   "id": "a53aea53",
   "metadata": {},
   "outputs": [],
   "source": [
    "df['has_company_logo'] = df['has_company_logo'].replace({1:'company logo: yes', 0: 'company logo: no'})"
   ]
  },
  {
   "cell_type": "markdown",
   "id": "771b2962",
   "metadata": {},
   "source": [
    "### Combine text in a single column"
   ]
  },
  {
   "cell_type": "code",
   "execution_count": 11,
   "id": "13529ec0",
   "metadata": {},
   "outputs": [],
   "source": [
    "text_data=df.select_dtypes(include=\"object\")\n",
    "text_data.drop([\"location\"],axis=1,inplace=True)\n",
    "text_col=text_data.columns\n",
    "df[text_col]=df[text_col].replace(np.nan,\"\")"
   ]
  },
  {
   "cell_type": "code",
   "execution_count": 12,
   "id": "4366e4fb",
   "metadata": {},
   "outputs": [],
   "source": [
    "df['text'] = \"\"\n",
    "for col in text_data.columns:\n",
    "    df[\"text\"]=df[\"text\"]+\" \"+df[col]"
   ]
  },
  {
   "cell_type": "markdown",
   "id": "6c274d5f",
   "metadata": {},
   "source": [
    "### Drop columns"
   ]
  },
  {
   "cell_type": "code",
   "execution_count": 13,
   "id": "12b1d766",
   "metadata": {},
   "outputs": [],
   "source": [
    "columns=['title', 'location','department', 'company_profile', 'employment_type','description', 'requirements', 'benefits','industry', 'function', 'has_company_logo', 'required_experience', 'required_education']\n",
    "for col in columns:\n",
    "    del df[col]"
   ]
  },
  {
   "cell_type": "code",
   "execution_count": 14,
   "id": "5ce3297d",
   "metadata": {},
   "outputs": [
    {
     "data": {
      "text/html": [
       "<div>\n",
       "<style scoped>\n",
       "    .dataframe tbody tr th:only-of-type {\n",
       "        vertical-align: middle;\n",
       "    }\n",
       "\n",
       "    .dataframe tbody tr th {\n",
       "        vertical-align: top;\n",
       "    }\n",
       "\n",
       "    .dataframe thead th {\n",
       "        text-align: right;\n",
       "    }\n",
       "</style>\n",
       "<table border=\"1\" class=\"dataframe\">\n",
       "  <thead>\n",
       "    <tr style=\"text-align: right;\">\n",
       "      <th></th>\n",
       "      <th>fraudulent</th>\n",
       "      <th>text</th>\n",
       "    </tr>\n",
       "  </thead>\n",
       "  <tbody>\n",
       "    <tr>\n",
       "      <th>0</th>\n",
       "      <td>0</td>\n",
       "      <td>Marketing Intern Marketing We're Food52, and ...</td>\n",
       "    </tr>\n",
       "    <tr>\n",
       "      <th>1</th>\n",
       "      <td>0</td>\n",
       "      <td>Customer Service - Cloud Video Production Suc...</td>\n",
       "    </tr>\n",
       "    <tr>\n",
       "      <th>2</th>\n",
       "      <td>0</td>\n",
       "      <td>Commissioning Machinery Assistant (CMA)  Valo...</td>\n",
       "    </tr>\n",
       "    <tr>\n",
       "      <th>3</th>\n",
       "      <td>0</td>\n",
       "      <td>Account Executive - Washington DC Sales Our p...</td>\n",
       "    </tr>\n",
       "    <tr>\n",
       "      <th>4</th>\n",
       "      <td>0</td>\n",
       "      <td>Bill Review Manager  SpotSource Solutions LLC...</td>\n",
       "    </tr>\n",
       "  </tbody>\n",
       "</table>\n",
       "</div>"
      ],
      "text/plain": [
       "   fraudulent                                               text\n",
       "0           0   Marketing Intern Marketing We're Food52, and ...\n",
       "1           0   Customer Service - Cloud Video Production Suc...\n",
       "2           0   Commissioning Machinery Assistant (CMA)  Valo...\n",
       "3           0   Account Executive - Washington DC Sales Our p...\n",
       "4           0   Bill Review Manager  SpotSource Solutions LLC..."
      ]
     },
     "execution_count": 14,
     "metadata": {},
     "output_type": "execute_result"
    }
   ],
   "source": [
    "df.head()"
   ]
  },
  {
   "cell_type": "markdown",
   "id": "61ca19e7",
   "metadata": {},
   "source": [
    "### Data cleaning"
   ]
  },
  {
   "cell_type": "code",
   "execution_count": 15,
   "id": "2a6cd9cd",
   "metadata": {},
   "outputs": [],
   "source": [
    "stop = set(stopwords.words(\"english\"))\n",
    "def clean(text):\n",
    "    \n",
    "    text=text.lower()\n",
    "    obj=re.compile(r\"<.*?>\")                     #removing html tags\n",
    "    text=obj.sub(r\" \",text)\n",
    "    obj=re.compile(r\"https://\\S+|http://\\S+\")    #removing url\n",
    "    text=obj.sub(r\" \",text)\n",
    "    obj=re.compile(r\"[^\\w\\s]\")                   #removing punctuations\n",
    "    text=obj.sub(r\" \",text)\n",
    "    obj=re.compile(r\"\\d{1,}\")                    #removing digits\n",
    "    text=obj.sub(r\" \",text)\n",
    "    obj=re.compile(r\"_+\")                        #removing underscore\n",
    "    text=obj.sub(r\" \",text)\n",
    "    obj=re.compile(r\"\\s\\w\\s\")                    #removing single character\n",
    "    text=obj.sub(r\" \",text)\n",
    "    obj=re.compile(r\"\\s{2,}\")                    #removing multiple spaces\n",
    "    text=obj.sub(r\" \",text)\n",
    "    \n",
    "    stemmer = SnowballStemmer(\"english\")\n",
    "    text=[stemmer.stem(word) for word in text.split() if word not in stop]\n",
    "\n",
    "    porter_stemmer = PorterStemmer()             #defining the object for stemming\n",
    "    text = [porter_stemmer.stem(word) for word in text]\n",
    "    wordnet_lemmatizer = WordNetLemmatizer()     #lemmatization\n",
    "    lemm_text = [wordnet_lemmatizer.lemmatize(word) for word in text]\n",
    "    return \" \".join(text)"
   ]
  },
  {
   "cell_type": "code",
   "execution_count": 16,
   "id": "ac22f6e0",
   "metadata": {},
   "outputs": [],
   "source": [
    "df[\"text\"] = df[\"text\"].apply(clean)"
   ]
  },
  {
   "cell_type": "markdown",
   "id": "58c669d3",
   "metadata": {},
   "source": [
    "This step may take awhile to run since there are 18000+ texts to clean"
   ]
  },
  {
   "cell_type": "code",
   "execution_count": 17,
   "id": "dbe2812a",
   "metadata": {},
   "outputs": [
    {
     "data": {
      "text/html": [
       "<div>\n",
       "<style scoped>\n",
       "    .dataframe tbody tr th:only-of-type {\n",
       "        vertical-align: middle;\n",
       "    }\n",
       "\n",
       "    .dataframe tbody tr th {\n",
       "        vertical-align: top;\n",
       "    }\n",
       "\n",
       "    .dataframe thead th {\n",
       "        text-align: right;\n",
       "    }\n",
       "</style>\n",
       "<table border=\"1\" class=\"dataframe\">\n",
       "  <thead>\n",
       "    <tr style=\"text-align: right;\">\n",
       "      <th></th>\n",
       "      <th>fraudulent</th>\n",
       "      <th>text</th>\n",
       "    </tr>\n",
       "  </thead>\n",
       "  <tbody>\n",
       "    <tr>\n",
       "      <th>0</th>\n",
       "      <td>0</td>\n",
       "      <td>market intern market food creat groundbreak aw...</td>\n",
       "    </tr>\n",
       "    <tr>\n",
       "      <th>1</th>\n",
       "      <td>0</td>\n",
       "      <td>custom servic cloud video product success seco...</td>\n",
       "    </tr>\n",
       "    <tr>\n",
       "      <th>2</th>\n",
       "      <td>0</td>\n",
       "      <td>commiss machineri assist cma valor servic prov...</td>\n",
       "    </tr>\n",
       "    <tr>\n",
       "      <th>3</th>\n",
       "      <td>0</td>\n",
       "      <td>account execut washington dc sale passion impr...</td>\n",
       "    </tr>\n",
       "    <tr>\n",
       "      <th>4</th>\n",
       "      <td>0</td>\n",
       "      <td>bill review manag spotsourc solut llc global h...</td>\n",
       "    </tr>\n",
       "  </tbody>\n",
       "</table>\n",
       "</div>"
      ],
      "text/plain": [
       "   fraudulent                                               text\n",
       "0           0  market intern market food creat groundbreak aw...\n",
       "1           0  custom servic cloud video product success seco...\n",
       "2           0  commiss machineri assist cma valor servic prov...\n",
       "3           0  account execut washington dc sale passion impr...\n",
       "4           0  bill review manag spotsourc solut llc global h..."
      ]
     },
     "execution_count": 17,
     "metadata": {},
     "output_type": "execute_result"
    }
   ],
   "source": [
    "df.head()"
   ]
  },
  {
   "cell_type": "code",
   "execution_count": 18,
   "id": "cd52ca07",
   "metadata": {},
   "outputs": [
    {
     "data": {
      "text/plain": [
       "'market intern market food creat groundbreak award win cook site support connect celebr home cook give everyth need one place top editori busi engin team focu use technolog find new better way connect peopl around specif food interest offer superb high curat inform food cook attract talent home cook contributor countri also publish well known profess like mario batali gwyneth paltrow danni meyer partnership whole food market random hou food name best food websit jame beard foundat iacp featur new york time npr pando daili techcrunch today show locat chelsea new york citi food fast grow jame beard award win onlin food commun crowd sourc curat recip hub current interview full part time unpaid intern work small team editor execut develop new york citi headquart reproduc repackag exist food content number partner site huffington post yahoo buzzf variou content manag systemsresearch blog websit provi food affili programassist day day affili program support screen affili assist affili inquiriessupport pr amp event neededhelp offic administr work file mail prepar meetingswork develop document bug suggest improv sitesupport market execut staff experi content manag system major plu blog count familiar food editori voic aestheticlov food appreci import home cook cook seasonsmeticul editor perfectionist obsess attent detail madden typo broken link delight find fix themcheer pressureexcel commun skillsa multi tasker juggler respon big smallinterest engag social media like twitter facebook pinterestlov problem solv collabor drive food forwardthink big pictur pitch nitti gritti run small compani dish shop administr support comfort realiti work startup call even weekend work long hour compani logo ye internship market'"
      ]
     },
     "execution_count": 18,
     "metadata": {},
     "output_type": "execute_result"
    }
   ],
   "source": [
    "df['text'][0] #check the cleaned text of the first row"
   ]
  },
  {
   "cell_type": "markdown",
   "id": "8a276534",
   "metadata": {},
   "source": [
    "### Vectorizer"
   ]
  },
  {
   "cell_type": "code",
   "execution_count": 19,
   "id": "9239f3c1",
   "metadata": {},
   "outputs": [],
   "source": [
    "# Target Selection\n",
    "x_sample = df['text']\n",
    "y_sample = df['fraudulent']\n",
    "#split\n",
    "X_train, X_test, y_train, y_test = train_test_split(\n",
    "    x_sample, y_sample,\n",
    "    test_size=0.3,\n",
    "    stratify=y_sample,\n",
    "    random_state=42\n",
    ")"
   ]
  },
  {
   "cell_type": "code",
   "execution_count": 20,
   "id": "e03db61b",
   "metadata": {},
   "outputs": [],
   "source": [
    "X_train.to_csv(\"copyXtrain.csv\", index = False) #save a copy of X_train for later use (Vectorizer in the streamlit app)"
   ]
  },
  {
   "cell_type": "code",
   "execution_count": 21,
   "id": "ce19cf0e",
   "metadata": {},
   "outputs": [],
   "source": [
    "# Apply vectorizer\n",
    "tfidf = TfidfVectorizer()\n",
    "tfidf.fit(X_train)\n",
    "X_train =  tfidf.transform(X_train)\n",
    "X_test= tfidf.transform(X_test)"
   ]
  },
  {
   "cell_type": "code",
   "execution_count": 22,
   "id": "33c5a060",
   "metadata": {},
   "outputs": [],
   "source": [
    "# make a copy of imbalanced X_train, X_test\n",
    "X_train_imbalanced =  X_train\n",
    "X_test_imbalanced = X_test\n",
    "y_train_imbalanced = y_train\n",
    "y_test_imbalanced = y_test"
   ]
  },
  {
   "cell_type": "markdown",
   "id": "a8c9115e",
   "metadata": {},
   "source": [
    "# Handle imbalanced dataset: Oversampling & Undersampling"
   ]
  },
  {
   "cell_type": "code",
   "execution_count": 23,
   "id": "331e743c",
   "metadata": {},
   "outputs": [],
   "source": [
    "from collections import Counter\n",
    "from imblearn.combine import SMOTETomek #Oversampling\n",
    "from imblearn.under_sampling import TomekLinks #Undersampling"
   ]
  },
  {
   "cell_type": "code",
   "execution_count": 24,
   "id": "767a2481",
   "metadata": {},
   "outputs": [
    {
     "name": "stdout",
     "output_type": "stream",
     "text": [
      "Counter({0: 11910, 1: 606})\n"
     ]
    }
   ],
   "source": [
    "print(Counter(y_train))"
   ]
  },
  {
   "cell_type": "markdown",
   "id": "83868f03",
   "metadata": {},
   "source": [
    "In the train set, there are 11910 real and 606 fake job ads --> highly imbalanced"
   ]
  },
  {
   "cell_type": "code",
   "execution_count": 25,
   "id": "95ec7972",
   "metadata": {},
   "outputs": [],
   "source": [
    "# define resampling\n",
    "resample = SMOTETomek(tomek=TomekLinks(sampling_strategy='majority'))"
   ]
  },
  {
   "cell_type": "code",
   "execution_count": 26,
   "id": "b99db21d",
   "metadata": {},
   "outputs": [],
   "source": [
    "# fit and apply the transform\n",
    "X_train, y_train = resample.fit_resample(X_train, y_train)"
   ]
  },
  {
   "cell_type": "markdown",
   "id": "35580bc5",
   "metadata": {},
   "source": [
    "This step may take awhile to run"
   ]
  },
  {
   "cell_type": "code",
   "execution_count": 27,
   "id": "86b9e725",
   "metadata": {},
   "outputs": [
    {
     "name": "stdout",
     "output_type": "stream",
     "text": [
      "Counter({0: 11910, 1: 11910})\n"
     ]
    }
   ],
   "source": [
    "print(Counter(y_train))"
   ]
  },
  {
   "cell_type": "markdown",
   "id": "91449e2e",
   "metadata": {},
   "source": [
    "Now, the train set is balanced"
   ]
  },
  {
   "cell_type": "markdown",
   "id": "bcbb0c83",
   "metadata": {},
   "source": [
    "# Classification Model"
   ]
  },
  {
   "cell_type": "markdown",
   "id": "96587fe9",
   "metadata": {},
   "source": [
    "## 1. Logistic Regression"
   ]
  },
  {
   "cell_type": "code",
   "execution_count": 28,
   "id": "a84c027c",
   "metadata": {},
   "outputs": [
    {
     "data": {
      "text/html": [
       "<style>#sk-container-id-1 {color: black;background-color: white;}#sk-container-id-1 pre{padding: 0;}#sk-container-id-1 div.sk-toggleable {background-color: white;}#sk-container-id-1 label.sk-toggleable__label {cursor: pointer;display: block;width: 100%;margin-bottom: 0;padding: 0.3em;box-sizing: border-box;text-align: center;}#sk-container-id-1 label.sk-toggleable__label-arrow:before {content: \"▸\";float: left;margin-right: 0.25em;color: #696969;}#sk-container-id-1 label.sk-toggleable__label-arrow:hover:before {color: black;}#sk-container-id-1 div.sk-estimator:hover label.sk-toggleable__label-arrow:before {color: black;}#sk-container-id-1 div.sk-toggleable__content {max-height: 0;max-width: 0;overflow: hidden;text-align: left;background-color: #f0f8ff;}#sk-container-id-1 div.sk-toggleable__content pre {margin: 0.2em;color: black;border-radius: 0.25em;background-color: #f0f8ff;}#sk-container-id-1 input.sk-toggleable__control:checked~div.sk-toggleable__content {max-height: 200px;max-width: 100%;overflow: auto;}#sk-container-id-1 input.sk-toggleable__control:checked~label.sk-toggleable__label-arrow:before {content: \"▾\";}#sk-container-id-1 div.sk-estimator input.sk-toggleable__control:checked~label.sk-toggleable__label {background-color: #d4ebff;}#sk-container-id-1 div.sk-label input.sk-toggleable__control:checked~label.sk-toggleable__label {background-color: #d4ebff;}#sk-container-id-1 input.sk-hidden--visually {border: 0;clip: rect(1px 1px 1px 1px);clip: rect(1px, 1px, 1px, 1px);height: 1px;margin: -1px;overflow: hidden;padding: 0;position: absolute;width: 1px;}#sk-container-id-1 div.sk-estimator {font-family: monospace;background-color: #f0f8ff;border: 1px dotted black;border-radius: 0.25em;box-sizing: border-box;margin-bottom: 0.5em;}#sk-container-id-1 div.sk-estimator:hover {background-color: #d4ebff;}#sk-container-id-1 div.sk-parallel-item::after {content: \"\";width: 100%;border-bottom: 1px solid gray;flex-grow: 1;}#sk-container-id-1 div.sk-label:hover label.sk-toggleable__label {background-color: #d4ebff;}#sk-container-id-1 div.sk-serial::before {content: \"\";position: absolute;border-left: 1px solid gray;box-sizing: border-box;top: 0;bottom: 0;left: 50%;z-index: 0;}#sk-container-id-1 div.sk-serial {display: flex;flex-direction: column;align-items: center;background-color: white;padding-right: 0.2em;padding-left: 0.2em;position: relative;}#sk-container-id-1 div.sk-item {position: relative;z-index: 1;}#sk-container-id-1 div.sk-parallel {display: flex;align-items: stretch;justify-content: center;background-color: white;position: relative;}#sk-container-id-1 div.sk-item::before, #sk-container-id-1 div.sk-parallel-item::before {content: \"\";position: absolute;border-left: 1px solid gray;box-sizing: border-box;top: 0;bottom: 0;left: 50%;z-index: -1;}#sk-container-id-1 div.sk-parallel-item {display: flex;flex-direction: column;z-index: 1;position: relative;background-color: white;}#sk-container-id-1 div.sk-parallel-item:first-child::after {align-self: flex-end;width: 50%;}#sk-container-id-1 div.sk-parallel-item:last-child::after {align-self: flex-start;width: 50%;}#sk-container-id-1 div.sk-parallel-item:only-child::after {width: 0;}#sk-container-id-1 div.sk-dashed-wrapped {border: 1px dashed gray;margin: 0 0.4em 0.5em 0.4em;box-sizing: border-box;padding-bottom: 0.4em;background-color: white;}#sk-container-id-1 div.sk-label label {font-family: monospace;font-weight: bold;display: inline-block;line-height: 1.2em;}#sk-container-id-1 div.sk-label-container {text-align: center;}#sk-container-id-1 div.sk-container {/* jupyter's `normalize.less` sets `[hidden] { display: none; }` but bootstrap.min.css set `[hidden] { display: none !important; }` so we also need the `!important` here to be able to override the default hidden behavior on the sphinx rendered scikit-learn.org. See: https://github.com/scikit-learn/scikit-learn/issues/21755 */display: inline-block !important;position: relative;}#sk-container-id-1 div.sk-text-repr-fallback {display: none;}</style><div id=\"sk-container-id-1\" class=\"sk-top-container\"><div class=\"sk-text-repr-fallback\"><pre>LogisticRegression(random_state=42)</pre><b>In a Jupyter environment, please rerun this cell to show the HTML representation or trust the notebook. <br />On GitHub, the HTML representation is unable to render, please try loading this page with nbviewer.org.</b></div><div class=\"sk-container\" hidden><div class=\"sk-item\"><div class=\"sk-estimator sk-toggleable\"><input class=\"sk-toggleable__control sk-hidden--visually\" id=\"sk-estimator-id-1\" type=\"checkbox\" checked><label for=\"sk-estimator-id-1\" class=\"sk-toggleable__label sk-toggleable__label-arrow\">LogisticRegression</label><div class=\"sk-toggleable__content\"><pre>LogisticRegression(random_state=42)</pre></div></div></div></div></div>"
      ],
      "text/plain": [
       "LogisticRegression(random_state=42)"
      ]
     },
     "execution_count": 28,
     "metadata": {},
     "output_type": "execute_result"
    }
   ],
   "source": [
    "logreg = LogisticRegression(random_state = 42)\n",
    "logreg.fit(X_train, y_train)"
   ]
  },
  {
   "cell_type": "markdown",
   "id": "9683ae97",
   "metadata": {},
   "source": [
    "#### Predict on train set"
   ]
  },
  {
   "cell_type": "code",
   "execution_count": 29,
   "id": "562f848e",
   "metadata": {},
   "outputs": [],
   "source": [
    "y_train_logreg_pred = logreg.predict(X_train)"
   ]
  },
  {
   "cell_type": "code",
   "execution_count": 30,
   "id": "c1e5cfa2",
   "metadata": {},
   "outputs": [
    {
     "data": {
      "text/plain": [
       "<AxesSubplot:>"
      ]
     },
     "execution_count": 30,
     "metadata": {},
     "output_type": "execute_result"
    },
    {
     "data": {
      "image/png": "[encoded data removed]",
      "text/plain": [
       "<Figure size 432x288 with 2 Axes>"
      ]
     },
     "metadata": {
      "needs_background": "light"
     },
     "output_type": "display_data"
    }
   ],
   "source": [
    "sb.heatmap(confusion_matrix(y_train, y_train_logreg_pred), annot = True, fmt=\"d\")"
   ]
  },
  {
   "cell_type": "code",
   "execution_count": 31,
   "id": "5f54390d",
   "metadata": {},
   "outputs": [
    {
     "name": "stdout",
     "output_type": "stream",
     "text": [
      "Logistic Regression Accuracy: 0.994416456759026\n",
      "Logistic Regression Recall: 0.9980688497061293\n",
      "Logistic Regression Precision: 0.9908310410936068\n",
      "Logistic Regression F2 score: 0.9966128410215134\n",
      "Logistic Regression ROC AUC Score 0.994416456759026\n"
     ]
    }
   ],
   "source": [
    "# Evaluation of model's performance on train set\n",
    "print(\"Logistic Regression Accuracy:\", accuracy_score(y_train, y_train_logreg_pred))\n",
    "print(\"Logistic Regression Recall:\", recall_score(y_train, y_train_logreg_pred))\n",
    "print(\"Logistic Regression Precision:\", precision_score(y_train, y_train_logreg_pred))\n",
    "print(\"Logistic Regression F2 score:\", fbeta_score(y_train, y_train_logreg_pred, average='binary', beta=2))\n",
    "print('Logistic Regression ROC AUC Score', roc_auc_score(y_train, y_train_logreg_pred))"
   ]
  },
  {
   "cell_type": "markdown",
   "id": "a39619ca",
   "metadata": {},
   "source": [
    "#### Predict on test set"
   ]
  },
  {
   "cell_type": "code",
   "execution_count": 32,
   "id": "f6b11889",
   "metadata": {},
   "outputs": [],
   "source": [
    "y_test_logreg_pred = logreg.predict(X_test)"
   ]
  },
  {
   "cell_type": "code",
   "execution_count": 33,
   "id": "1ae448f5",
   "metadata": {},
   "outputs": [
    {
     "data": {
      "text/plain": [
       "<AxesSubplot:>"
      ]
     },
     "execution_count": 33,
     "metadata": {},
     "output_type": "execute_result"
    },
    {
     "data": {
      "image/png": "[encoded data removed]",
      "text/plain": [
       "<Figure size 432x288 with 2 Axes>"
      ]
     },
     "metadata": {
      "needs_background": "light"
     },
     "output_type": "display_data"
    }
   ],
   "source": [
    "sb.heatmap(confusion_matrix(y_test, y_test_logreg_pred), annot = True, fmt=\"d\")"
   ]
  },
  {
   "cell_type": "code",
   "execution_count": 34,
   "id": "1c0ece34",
   "metadata": {},
   "outputs": [
    {
     "name": "stdout",
     "output_type": "stream",
     "text": [
      "Logistic Regression Accuracy: 0.9806114839671887\n",
      "Logistic Regression Recall: 0.8692307692307693\n",
      "Logistic Regression Precision: 0.7635135135135135\n",
      "Logistic Regression F2 score: 0.845808383233533\n",
      "Logistic Regression ROC AUC Score 0.9277580178442246\n"
     ]
    }
   ],
   "source": [
    "# Evaluation of model's performance on test set\n",
    "print(\"Logistic Regression Accuracy:\", accuracy_score(y_test, y_test_logreg_pred))\n",
    "print(\"Logistic Regression Recall:\", recall_score(y_test, y_test_logreg_pred))\n",
    "print(\"Logistic Regression Precision:\", precision_score(y_test, y_test_logreg_pred))\n",
    "print(\"Logistic Regression F2 score:\", fbeta_score(y_test, y_test_logreg_pred, average='binary', beta=2))\n",
    "print('Logistic Regression ROC AUC Score', roc_auc_score(y_test, y_test_logreg_pred))"
   ]
  },
  {
   "cell_type": "code",
   "execution_count": 35,
   "id": "e846d561",
   "metadata": {},
   "outputs": [
    {
     "name": "stdout",
     "output_type": "stream",
     "text": [
      "Logistic Regression F1 score: 0.8129496402877696\n"
     ]
    }
   ],
   "source": [
    "print(\"Logistic Regression F1 score:\", fbeta_score(y_test, y_test_logreg_pred, average='binary', beta=1))"
   ]
  },
  {
   "cell_type": "markdown",
   "id": "72ea62eb",
   "metadata": {},
   "source": [
    "## 2. Random Forest"
   ]
  },
  {
   "cell_type": "code",
   "execution_count": 36,
   "id": "c5f01e40",
   "metadata": {},
   "outputs": [
    {
     "data": {
      "text/html": [
       "<style>#sk-container-id-2 {color: black;background-color: white;}#sk-container-id-2 pre{padding: 0;}#sk-container-id-2 div.sk-toggleable {background-color: white;}#sk-container-id-2 label.sk-toggleable__label {cursor: pointer;display: block;width: 100%;margin-bottom: 0;padding: 0.3em;box-sizing: border-box;text-align: center;}#sk-container-id-2 label.sk-toggleable__label-arrow:before {content: \"▸\";float: left;margin-right: 0.25em;color: #696969;}#sk-container-id-2 label.sk-toggleable__label-arrow:hover:before {color: black;}#sk-container-id-2 div.sk-estimator:hover label.sk-toggleable__label-arrow:before {color: black;}#sk-container-id-2 div.sk-toggleable__content {max-height: 0;max-width: 0;overflow: hidden;text-align: left;background-color: #f0f8ff;}#sk-container-id-2 div.sk-toggleable__content pre {margin: 0.2em;color: black;border-radius: 0.25em;background-color: #f0f8ff;}#sk-container-id-2 input.sk-toggleable__control:checked~div.sk-toggleable__content {max-height: 200px;max-width: 100%;overflow: auto;}#sk-container-id-2 input.sk-toggleable__control:checked~label.sk-toggleable__label-arrow:before {content: \"▾\";}#sk-container-id-2 div.sk-estimator input.sk-toggleable__control:checked~label.sk-toggleable__label {background-color: #d4ebff;}#sk-container-id-2 div.sk-label input.sk-toggleable__control:checked~label.sk-toggleable__label {background-color: #d4ebff;}#sk-container-id-2 input.sk-hidden--visually {border: 0;clip: rect(1px 1px 1px 1px);clip: rect(1px, 1px, 1px, 1px);height: 1px;margin: -1px;overflow: hidden;padding: 0;position: absolute;width: 1px;}#sk-container-id-2 div.sk-estimator {font-family: monospace;background-color: #f0f8ff;border: 1px dotted black;border-radius: 0.25em;box-sizing: border-box;margin-bottom: 0.5em;}#sk-container-id-2 div.sk-estimator:hover {background-color: #d4ebff;}#sk-container-id-2 div.sk-parallel-item::after {content: \"\";width: 100%;border-bottom: 1px solid gray;flex-grow: 1;}#sk-container-id-2 div.sk-label:hover label.sk-toggleable__label {background-color: #d4ebff;}#sk-container-id-2 div.sk-serial::before {content: \"\";position: absolute;border-left: 1px solid gray;box-sizing: border-box;top: 0;bottom: 0;left: 50%;z-index: 0;}#sk-container-id-2 div.sk-serial {display: flex;flex-direction: column;align-items: center;background-color: white;padding-right: 0.2em;padding-left: 0.2em;position: relative;}#sk-container-id-2 div.sk-item {position: relative;z-index: 1;}#sk-container-id-2 div.sk-parallel {display: flex;align-items: stretch;justify-content: center;background-color: white;position: relative;}#sk-container-id-2 div.sk-item::before, #sk-container-id-2 div.sk-parallel-item::before {content: \"\";position: absolute;border-left: 1px solid gray;box-sizing: border-box;top: 0;bottom: 0;left: 50%;z-index: -1;}#sk-container-id-2 div.sk-parallel-item {display: flex;flex-direction: column;z-index: 1;position: relative;background-color: white;}#sk-container-id-2 div.sk-parallel-item:first-child::after {align-self: flex-end;width: 50%;}#sk-container-id-2 div.sk-parallel-item:last-child::after {align-self: flex-start;width: 50%;}#sk-container-id-2 div.sk-parallel-item:only-child::after {width: 0;}#sk-container-id-2 div.sk-dashed-wrapped {border: 1px dashed gray;margin: 0 0.4em 0.5em 0.4em;box-sizing: border-box;padding-bottom: 0.4em;background-color: white;}#sk-container-id-2 div.sk-label label {font-family: monospace;font-weight: bold;display: inline-block;line-height: 1.2em;}#sk-container-id-2 div.sk-label-container {text-align: center;}#sk-container-id-2 div.sk-container {/* jupyter's `normalize.less` sets `[hidden] { display: none; }` but bootstrap.min.css set `[hidden] { display: none !important; }` so we also need the `!important` here to be able to override the default hidden behavior on the sphinx rendered scikit-learn.org. See: https://github.com/scikit-learn/scikit-learn/issues/21755 */display: inline-block !important;position: relative;}#sk-container-id-2 div.sk-text-repr-fallback {display: none;}</style><div id=\"sk-container-id-2\" class=\"sk-top-container\"><div class=\"sk-text-repr-fallback\"><pre>RandomForestClassifier()</pre><b>In a Jupyter environment, please rerun this cell to show the HTML representation or trust the notebook. <br />On GitHub, the HTML representation is unable to render, please try loading this page with nbviewer.org.</b></div><div class=\"sk-container\" hidden><div class=\"sk-item\"><div class=\"sk-estimator sk-toggleable\"><input class=\"sk-toggleable__control sk-hidden--visually\" id=\"sk-estimator-id-2\" type=\"checkbox\" checked><label for=\"sk-estimator-id-2\" class=\"sk-toggleable__label sk-toggleable__label-arrow\">RandomForestClassifier</label><div class=\"sk-toggleable__content\"><pre>RandomForestClassifier()</pre></div></div></div></div></div>"
      ],
      "text/plain": [
       "RandomForestClassifier()"
      ]
     },
     "execution_count": 36,
     "metadata": {},
     "output_type": "execute_result"
    }
   ],
   "source": [
    "forest = RandomForestClassifier()\n",
    "forest.fit(X_train, y_train)"
   ]
  },
  {
   "cell_type": "markdown",
   "id": "78b12738",
   "metadata": {},
   "source": [
    "#### Predict on train test"
   ]
  },
  {
   "cell_type": "code",
   "execution_count": 37,
   "id": "0deba917",
   "metadata": {},
   "outputs": [],
   "source": [
    "y_fr_train_pred = forest.predict(X_train)"
   ]
  },
  {
   "cell_type": "code",
   "execution_count": 38,
   "id": "3990e0c4",
   "metadata": {},
   "outputs": [
    {
     "data": {
      "text/plain": [
       "<AxesSubplot:>"
      ]
     },
     "execution_count": 38,
     "metadata": {},
     "output_type": "execute_result"
    },
    {
     "data": {
      "image/png": "[encoded data removed]",
      "text/plain": [
       "<Figure size 432x288 with 2 Axes>"
      ]
     },
     "metadata": {
      "needs_background": "light"
     },
     "output_type": "display_data"
    }
   ],
   "source": [
    "sb.heatmap(confusion_matrix(y_train, y_fr_train_pred), annot = True, fmt=\"d\")"
   ]
  },
  {
   "cell_type": "code",
   "execution_count": 39,
   "id": "203f42f0",
   "metadata": {},
   "outputs": [
    {
     "name": "stdout",
     "output_type": "stream",
     "text": [
      "Random Forest Accuracy: 1.0\n",
      "Random Forest Recall: 1.0\n",
      "Random Forest Precision: 1.0\n",
      "Random Forest F2 score: 1.0\n",
      "Random Forest ROC AUC Score 1.0\n"
     ]
    }
   ],
   "source": [
    "# Evaluation of model's performance on train set\n",
    "print(\"Random Forest Accuracy:\", accuracy_score(y_train, y_fr_train_pred))\n",
    "print(\"Random Forest Recall:\", recall_score(y_train, y_fr_train_pred))\n",
    "print(\"Random Forest Precision:\", precision_score(y_train, y_fr_train_pred))\n",
    "print(\"Random Forest F2 score:\", fbeta_score(y_train, y_fr_train_pred, average='binary', beta=2))\n",
    "print('Random Forest ROC AUC Score', roc_auc_score(y_train, y_fr_train_pred))"
   ]
  },
  {
   "cell_type": "markdown",
   "id": "d9076afe",
   "metadata": {},
   "source": [
    "Risk of overfitting"
   ]
  },
  {
   "cell_type": "markdown",
   "id": "8add3b9b",
   "metadata": {},
   "source": [
    "#### Predict on test set"
   ]
  },
  {
   "cell_type": "code",
   "execution_count": 40,
   "id": "dfc79e7e",
   "metadata": {},
   "outputs": [],
   "source": [
    "y_fr_test_pred = forest.predict(X_test)"
   ]
  },
  {
   "cell_type": "code",
   "execution_count": 41,
   "id": "a05f32bf",
   "metadata": {},
   "outputs": [
    {
     "data": {
      "text/plain": [
       "<AxesSubplot:>"
      ]
     },
     "execution_count": 41,
     "metadata": {},
     "output_type": "execute_result"
    },
    {
     "data": {
      "image/png": "[encoded data removed]",
      "text/plain": [
       "<Figure size 432x288 with 2 Axes>"
      ]
     },
     "metadata": {
      "needs_background": "light"
     },
     "output_type": "display_data"
    }
   ],
   "source": [
    "sb.heatmap(confusion_matrix(y_test, y_fr_test_pred), annot = True, fmt=\"d\")"
   ]
  },
  {
   "cell_type": "code",
   "execution_count": 42,
   "id": "901a1a66",
   "metadata": {},
   "outputs": [
    {
     "name": "stdout",
     "output_type": "stream",
     "text": [
      "Random Forest Accuracy: 0.9817300521998509\n",
      "Random Forest Recall: 0.6384615384615384\n",
      "Random Forest Precision: 0.9764705882352941\n",
      "Random Forest F2 score: 0.6859504132231404\n",
      "Random Forest ROC AUC Score 0.8188389197009887\n"
     ]
    }
   ],
   "source": [
    "# Evaluation of model's performance on test set\n",
    "print(\"Random Forest Accuracy:\", accuracy_score(y_test, y_fr_test_pred))\n",
    "print(\"Random Forest Recall:\", recall_score(y_test, y_fr_test_pred))\n",
    "print(\"Random Forest Precision:\", precision_score(y_test, y_fr_test_pred))\n",
    "print(\"Random Forest F2 score:\", fbeta_score(y_test, y_fr_test_pred, average='binary', beta=2))\n",
    "print('Random Forest ROC AUC Score', roc_auc_score(y_test, y_fr_test_pred))"
   ]
  },
  {
   "cell_type": "markdown",
   "id": "6e680a8d",
   "metadata": {},
   "source": [
    "## 3. Support Vector Machine"
   ]
  },
  {
   "cell_type": "markdown",
   "id": "db5beaf3",
   "metadata": {},
   "source": [
    "#### a. Apply Argument Class Weight on Imbalanced Data"
   ]
  },
  {
   "cell_type": "code",
   "execution_count": 43,
   "id": "28311c32",
   "metadata": {},
   "outputs": [
    {
     "data": {
      "text/html": [
       "<style>#sk-container-id-3 {color: black;background-color: white;}#sk-container-id-3 pre{padding: 0;}#sk-container-id-3 div.sk-toggleable {background-color: white;}#sk-container-id-3 label.sk-toggleable__label {cursor: pointer;display: block;width: 100%;margin-bottom: 0;padding: 0.3em;box-sizing: border-box;text-align: center;}#sk-container-id-3 label.sk-toggleable__label-arrow:before {content: \"▸\";float: left;margin-right: 0.25em;color: #696969;}#sk-container-id-3 label.sk-toggleable__label-arrow:hover:before {color: black;}#sk-container-id-3 div.sk-estimator:hover label.sk-toggleable__label-arrow:before {color: black;}#sk-container-id-3 div.sk-toggleable__content {max-height: 0;max-width: 0;overflow: hidden;text-align: left;background-color: #f0f8ff;}#sk-container-id-3 div.sk-toggleable__content pre {margin: 0.2em;color: black;border-radius: 0.25em;background-color: #f0f8ff;}#sk-container-id-3 input.sk-toggleable__control:checked~div.sk-toggleable__content {max-height: 200px;max-width: 100%;overflow: auto;}#sk-container-id-3 input.sk-toggleable__control:checked~label.sk-toggleable__label-arrow:before {content: \"▾\";}#sk-container-id-3 div.sk-estimator input.sk-toggleable__control:checked~label.sk-toggleable__label {background-color: #d4ebff;}#sk-container-id-3 div.sk-label input.sk-toggleable__control:checked~label.sk-toggleable__label {background-color: #d4ebff;}#sk-container-id-3 input.sk-hidden--visually {border: 0;clip: rect(1px 1px 1px 1px);clip: rect(1px, 1px, 1px, 1px);height: 1px;margin: -1px;overflow: hidden;padding: 0;position: absolute;width: 1px;}#sk-container-id-3 div.sk-estimator {font-family: monospace;background-color: #f0f8ff;border: 1px dotted black;border-radius: 0.25em;box-sizing: border-box;margin-bottom: 0.5em;}#sk-container-id-3 div.sk-estimator:hover {background-color: #d4ebff;}#sk-container-id-3 div.sk-parallel-item::after {content: \"\";width: 100%;border-bottom: 1px solid gray;flex-grow: 1;}#sk-container-id-3 div.sk-label:hover label.sk-toggleable__label {background-color: #d4ebff;}#sk-container-id-3 div.sk-serial::before {content: \"\";position: absolute;border-left: 1px solid gray;box-sizing: border-box;top: 0;bottom: 0;left: 50%;z-index: 0;}#sk-container-id-3 div.sk-serial {display: flex;flex-direction: column;align-items: center;background-color: white;padding-right: 0.2em;padding-left: 0.2em;position: relative;}#sk-container-id-3 div.sk-item {position: relative;z-index: 1;}#sk-container-id-3 div.sk-parallel {display: flex;align-items: stretch;justify-content: center;background-color: white;position: relative;}#sk-container-id-3 div.sk-item::before, #sk-container-id-3 div.sk-parallel-item::before {content: \"\";position: absolute;border-left: 1px solid gray;box-sizing: border-box;top: 0;bottom: 0;left: 50%;z-index: -1;}#sk-container-id-3 div.sk-parallel-item {display: flex;flex-direction: column;z-index: 1;position: relative;background-color: white;}#sk-container-id-3 div.sk-parallel-item:first-child::after {align-self: flex-end;width: 50%;}#sk-container-id-3 div.sk-parallel-item:last-child::after {align-self: flex-start;width: 50%;}#sk-container-id-3 div.sk-parallel-item:only-child::after {width: 0;}#sk-container-id-3 div.sk-dashed-wrapped {border: 1px dashed gray;margin: 0 0.4em 0.5em 0.4em;box-sizing: border-box;padding-bottom: 0.4em;background-color: white;}#sk-container-id-3 div.sk-label label {font-family: monospace;font-weight: bold;display: inline-block;line-height: 1.2em;}#sk-container-id-3 div.sk-label-container {text-align: center;}#sk-container-id-3 div.sk-container {/* jupyter's `normalize.less` sets `[hidden] { display: none; }` but bootstrap.min.css set `[hidden] { display: none !important; }` so we also need the `!important` here to be able to override the default hidden behavior on the sphinx rendered scikit-learn.org. See: https://github.com/scikit-learn/scikit-learn/issues/21755 */display: inline-block !important;position: relative;}#sk-container-id-3 div.sk-text-repr-fallback {display: none;}</style><div id=\"sk-container-id-3\" class=\"sk-top-container\"><div class=\"sk-text-repr-fallback\"><pre>SVC(class_weight=&#x27;balanced&#x27;)</pre><b>In a Jupyter environment, please rerun this cell to show the HTML representation or trust the notebook. <br />On GitHub, the HTML representation is unable to render, please try loading this page with nbviewer.org.</b></div><div class=\"sk-container\" hidden><div class=\"sk-item\"><div class=\"sk-estimator sk-toggleable\"><input class=\"sk-toggleable__control sk-hidden--visually\" id=\"sk-estimator-id-3\" type=\"checkbox\" checked><label for=\"sk-estimator-id-3\" class=\"sk-toggleable__label sk-toggleable__label-arrow\">SVC</label><div class=\"sk-toggleable__content\"><pre>SVC(class_weight=&#x27;balanced&#x27;)</pre></div></div></div></div></div>"
      ],
      "text/plain": [
       "SVC(class_weight='balanced')"
      ]
     },
     "execution_count": 43,
     "metadata": {},
     "output_type": "execute_result"
    }
   ],
   "source": [
    "svm = SVC(class_weight='balanced')\n",
    "svm.fit(X_train_imbalanced, y_train_imbalanced)"
   ]
  },
  {
   "cell_type": "markdown",
   "id": "872bc4a1",
   "metadata": {},
   "source": [
    "#### Predict on train set"
   ]
  },
  {
   "cell_type": "code",
   "execution_count": 44,
   "id": "b1242975",
   "metadata": {},
   "outputs": [],
   "source": [
    "y_svm_train_imbalanced_pred = svm.predict(X_train_imbalanced)"
   ]
  },
  {
   "cell_type": "code",
   "execution_count": 45,
   "id": "a4f66a57",
   "metadata": {},
   "outputs": [
    {
     "name": "stdout",
     "output_type": "stream",
     "text": [
      "SVM Accuracy: 0.9993608181527645\n",
      "SVM Recall: 1.0\n",
      "SVM Precision: 0.9869706840390879\n",
      "SVM F2 score: 0.9973666886109283\n",
      "SVM ROC AUC Score 0.999664147774979\n"
     ]
    }
   ],
   "source": [
    "# Evaluation of model's performance on train set\n",
    "print(\"SVM Accuracy:\", accuracy_score(y_train_imbalanced, y_svm_train_imbalanced_pred))\n",
    "print(\"SVM Recall:\", recall_score(y_train_imbalanced, y_svm_train_imbalanced_pred))\n",
    "print(\"SVM Precision:\", precision_score(y_train_imbalanced, y_svm_train_imbalanced_pred))\n",
    "print(\"SVM F2 score:\", fbeta_score(y_train_imbalanced, y_svm_train_imbalanced_pred, average='binary', beta=2))\n",
    "print('SVM ROC AUC Score', roc_auc_score(y_train_imbalanced, y_svm_train_imbalanced_pred))"
   ]
  },
  {
   "cell_type": "markdown",
   "id": "021d738d",
   "metadata": {},
   "source": [
    "#### Predict on test set"
   ]
  },
  {
   "cell_type": "code",
   "execution_count": 46,
   "id": "c6ea287a",
   "metadata": {},
   "outputs": [],
   "source": [
    "y_svm_test_imbalanced_pred = svm.predict(X_test)"
   ]
  },
  {
   "cell_type": "code",
   "execution_count": 47,
   "id": "7b4c5334",
   "metadata": {},
   "outputs": [
    {
     "name": "stdout",
     "output_type": "stream",
     "text": [
      "SVM Accuracy: 0.9875093214019388\n",
      "SVM Recall: 0.7538461538461538\n",
      "SVM Precision: 0.9849246231155779\n",
      "SVM F2 score: 0.7909604519774012\n",
      "SVM ROC AUC Score 0.8766291897757416\n"
     ]
    }
   ],
   "source": [
    "# Evaluation of model's performance on test set\n",
    "print(\"SVM Accuracy:\", accuracy_score(y_test, y_svm_test_imbalanced_pred))\n",
    "print(\"SVM Recall:\", recall_score(y_test, y_svm_test_imbalanced_pred))\n",
    "print(\"SVM Precision:\", precision_score(y_test, y_svm_test_imbalanced_pred))\n",
    "print(\"SVM F2 score:\", fbeta_score(y_test, y_svm_test_imbalanced_pred, average='binary', beta=2))\n",
    "print('SVM ROC AUC Score', roc_auc_score(y_test, y_svm_test_imbalanced_pred))"
   ]
  },
  {
   "cell_type": "markdown",
   "id": "212a7893",
   "metadata": {},
   "source": [
    "#### b. Balanced data by SMOTE"
   ]
  },
  {
   "cell_type": "code",
   "execution_count": 48,
   "id": "ee989a5d",
   "metadata": {},
   "outputs": [
    {
     "data": {
      "text/html": [
       "<style>#sk-container-id-4 {color: black;background-color: white;}#sk-container-id-4 pre{padding: 0;}#sk-container-id-4 div.sk-toggleable {background-color: white;}#sk-container-id-4 label.sk-toggleable__label {cursor: pointer;display: block;width: 100%;margin-bottom: 0;padding: 0.3em;box-sizing: border-box;text-align: center;}#sk-container-id-4 label.sk-toggleable__label-arrow:before {content: \"▸\";float: left;margin-right: 0.25em;color: #696969;}#sk-container-id-4 label.sk-toggleable__label-arrow:hover:before {color: black;}#sk-container-id-4 div.sk-estimator:hover label.sk-toggleable__label-arrow:before {color: black;}#sk-container-id-4 div.sk-toggleable__content {max-height: 0;max-width: 0;overflow: hidden;text-align: left;background-color: #f0f8ff;}#sk-container-id-4 div.sk-toggleable__content pre {margin: 0.2em;color: black;border-radius: 0.25em;background-color: #f0f8ff;}#sk-container-id-4 input.sk-toggleable__control:checked~div.sk-toggleable__content {max-height: 200px;max-width: 100%;overflow: auto;}#sk-container-id-4 input.sk-toggleable__control:checked~label.sk-toggleable__label-arrow:before {content: \"▾\";}#sk-container-id-4 div.sk-estimator input.sk-toggleable__control:checked~label.sk-toggleable__label {background-color: #d4ebff;}#sk-container-id-4 div.sk-label input.sk-toggleable__control:checked~label.sk-toggleable__label {background-color: #d4ebff;}#sk-container-id-4 input.sk-hidden--visually {border: 0;clip: rect(1px 1px 1px 1px);clip: rect(1px, 1px, 1px, 1px);height: 1px;margin: -1px;overflow: hidden;padding: 0;position: absolute;width: 1px;}#sk-container-id-4 div.sk-estimator {font-family: monospace;background-color: #f0f8ff;border: 1px dotted black;border-radius: 0.25em;box-sizing: border-box;margin-bottom: 0.5em;}#sk-container-id-4 div.sk-estimator:hover {background-color: #d4ebff;}#sk-container-id-4 div.sk-parallel-item::after {content: \"\";width: 100%;border-bottom: 1px solid gray;flex-grow: 1;}#sk-container-id-4 div.sk-label:hover label.sk-toggleable__label {background-color: #d4ebff;}#sk-container-id-4 div.sk-serial::before {content: \"\";position: absolute;border-left: 1px solid gray;box-sizing: border-box;top: 0;bottom: 0;left: 50%;z-index: 0;}#sk-container-id-4 div.sk-serial {display: flex;flex-direction: column;align-items: center;background-color: white;padding-right: 0.2em;padding-left: 0.2em;position: relative;}#sk-container-id-4 div.sk-item {position: relative;z-index: 1;}#sk-container-id-4 div.sk-parallel {display: flex;align-items: stretch;justify-content: center;background-color: white;position: relative;}#sk-container-id-4 div.sk-item::before, #sk-container-id-4 div.sk-parallel-item::before {content: \"\";position: absolute;border-left: 1px solid gray;box-sizing: border-box;top: 0;bottom: 0;left: 50%;z-index: -1;}#sk-container-id-4 div.sk-parallel-item {display: flex;flex-direction: column;z-index: 1;position: relative;background-color: white;}#sk-container-id-4 div.sk-parallel-item:first-child::after {align-self: flex-end;width: 50%;}#sk-container-id-4 div.sk-parallel-item:last-child::after {align-self: flex-start;width: 50%;}#sk-container-id-4 div.sk-parallel-item:only-child::after {width: 0;}#sk-container-id-4 div.sk-dashed-wrapped {border: 1px dashed gray;margin: 0 0.4em 0.5em 0.4em;box-sizing: border-box;padding-bottom: 0.4em;background-color: white;}#sk-container-id-4 div.sk-label label {font-family: monospace;font-weight: bold;display: inline-block;line-height: 1.2em;}#sk-container-id-4 div.sk-label-container {text-align: center;}#sk-container-id-4 div.sk-container {/* jupyter's `normalize.less` sets `[hidden] { display: none; }` but bootstrap.min.css set `[hidden] { display: none !important; }` so we also need the `!important` here to be able to override the default hidden behavior on the sphinx rendered scikit-learn.org. See: https://github.com/scikit-learn/scikit-learn/issues/21755 */display: inline-block !important;position: relative;}#sk-container-id-4 div.sk-text-repr-fallback {display: none;}</style><div id=\"sk-container-id-4\" class=\"sk-top-container\"><div class=\"sk-text-repr-fallback\"><pre>SVC()</pre><b>In a Jupyter environment, please rerun this cell to show the HTML representation or trust the notebook. <br />On GitHub, the HTML representation is unable to render, please try loading this page with nbviewer.org.</b></div><div class=\"sk-container\" hidden><div class=\"sk-item\"><div class=\"sk-estimator sk-toggleable\"><input class=\"sk-toggleable__control sk-hidden--visually\" id=\"sk-estimator-id-4\" type=\"checkbox\" checked><label for=\"sk-estimator-id-4\" class=\"sk-toggleable__label sk-toggleable__label-arrow\">SVC</label><div class=\"sk-toggleable__content\"><pre>SVC()</pre></div></div></div></div></div>"
      ],
      "text/plain": [
       "SVC()"
      ]
     },
     "execution_count": 48,
     "metadata": {},
     "output_type": "execute_result"
    }
   ],
   "source": [
    "svm = SVC()\n",
    "svm.fit(X_train, y_train)"
   ]
  },
  {
   "cell_type": "markdown",
   "id": "191d3afb",
   "metadata": {},
   "source": [
    "This model takes the longest to run."
   ]
  },
  {
   "cell_type": "markdown",
   "id": "255efcfd",
   "metadata": {},
   "source": [
    "#### Predict on train set"
   ]
  },
  {
   "cell_type": "code",
   "execution_count": 49,
   "id": "b489be6a",
   "metadata": {},
   "outputs": [],
   "source": [
    "y_svm_train_pred = svm.predict(X_train)"
   ]
  },
  {
   "cell_type": "code",
   "execution_count": 50,
   "id": "9801b251",
   "metadata": {},
   "outputs": [
    {
     "data": {
      "text/plain": [
       "<AxesSubplot:>"
      ]
     },
     "execution_count": 50,
     "metadata": {},
     "output_type": "execute_result"
    },
    {
     "data": {
      "image/png": "[encoded data removed]",
      "text/plain": [
       "<Figure size 432x288 with 2 Axes>"
      ]
     },
     "metadata": {
      "needs_background": "light"
     },
     "output_type": "display_data"
    }
   ],
   "source": [
    "sb.heatmap(confusion_matrix(y_train, y_svm_train_pred), annot = True, fmt=\"d\")"
   ]
  },
  {
   "cell_type": "code",
   "execution_count": 51,
   "id": "f49bb57f",
   "metadata": {},
   "outputs": [
    {
     "name": "stdout",
     "output_type": "stream",
     "text": [
      "SVM Accuracy: 0.9998740554156171\n",
      "SVM Recall: 0.9998320738874895\n",
      "SVM Precision: 0.9999160298933579\n",
      "SVM F2 score: 0.9998488639607719\n",
      "SVM ROC AUC Score 0.9998740554156171\n"
     ]
    }
   ],
   "source": [
    "# Evaluation of model's performance on train set\n",
    "print(\"SVM Accuracy:\", accuracy_score(y_train, y_svm_train_pred))\n",
    "print(\"SVM Recall:\", recall_score(y_train, y_svm_train_pred))\n",
    "print(\"SVM Precision:\", precision_score(y_train, y_svm_train_pred))\n",
    "print(\"SVM F2 score:\", fbeta_score(y_train, y_svm_train_pred, average='binary', beta=2))\n",
    "print('SVM ROC AUC Score', roc_auc_score(y_train, y_svm_train_pred))"
   ]
  },
  {
   "cell_type": "markdown",
   "id": "8647531a",
   "metadata": {},
   "source": [
    "#### Predict on test set"
   ]
  },
  {
   "cell_type": "code",
   "execution_count": 52,
   "id": "1a809503",
   "metadata": {},
   "outputs": [],
   "source": [
    "y_svm_test_pred = svm.predict(X_test)"
   ]
  },
  {
   "cell_type": "code",
   "execution_count": 53,
   "id": "0e5f5b4b",
   "metadata": {},
   "outputs": [
    {
     "data": {
      "text/plain": [
       "<AxesSubplot:>"
      ]
     },
     "execution_count": 53,
     "metadata": {},
     "output_type": "execute_result"
    },
    {
     "data": {
      "image/png": "[encoded data removed]",
      "text/plain": [
       "<Figure size 432x288 with 2 Axes>"
      ]
     },
     "metadata": {
      "needs_background": "light"
     },
     "output_type": "display_data"
    }
   ],
   "source": [
    "sb.heatmap(confusion_matrix(y_test, y_svm_test_pred), annot = True, fmt=\"d\")"
   ]
  },
  {
   "cell_type": "code",
   "execution_count": 54,
   "id": "a213547e",
   "metadata": {},
   "outputs": [
    {
     "name": "stdout",
     "output_type": "stream",
     "text": [
      "SVM Accuracy: 0.9858314690529456\n",
      "SVM Recall: 0.7115384615384616\n",
      "SVM Precision: 0.9946236559139785\n",
      "SVM F2 score: 0.7544861337683523\n",
      "SVM ROC AUC Score 0.8556712683867856\n"
     ]
    }
   ],
   "source": [
    "# Evaluation of model's performance on test set\n",
    "print(\"SVM Accuracy:\", accuracy_score(y_test, y_svm_test_pred))\n",
    "print(\"SVM Recall:\", recall_score(y_test, y_svm_test_pred))\n",
    "print(\"SVM Precision:\", precision_score(y_test, y_svm_test_pred))\n",
    "print(\"SVM F2 score:\", fbeta_score(y_test, y_svm_test_pred, average='binary', beta=2))\n",
    "print('SVM ROC AUC Score', roc_auc_score(y_test, y_svm_test_pred))"
   ]
  },
  {
   "cell_type": "markdown",
   "id": "635a4ec7",
   "metadata": {},
   "source": [
    "## 4. XGBoost Classifier"
   ]
  },
  {
   "cell_type": "code",
   "execution_count": 55,
   "id": "455b574e",
   "metadata": {},
   "outputs": [
    {
     "data": {
      "text/html": [
       "<style>#sk-container-id-5 {color: black;background-color: white;}#sk-container-id-5 pre{padding: 0;}#sk-container-id-5 div.sk-toggleable {background-color: white;}#sk-container-id-5 label.sk-toggleable__label {cursor: pointer;display: block;width: 100%;margin-bottom: 0;padding: 0.3em;box-sizing: border-box;text-align: center;}#sk-container-id-5 label.sk-toggleable__label-arrow:before {content: \"▸\";float: left;margin-right: 0.25em;color: #696969;}#sk-container-id-5 label.sk-toggleable__label-arrow:hover:before {color: black;}#sk-container-id-5 div.sk-estimator:hover label.sk-toggleable__label-arrow:before {color: black;}#sk-container-id-5 div.sk-toggleable__content {max-height: 0;max-width: 0;overflow: hidden;text-align: left;background-color: #f0f8ff;}#sk-container-id-5 div.sk-toggleable__content pre {margin: 0.2em;color: black;border-radius: 0.25em;background-color: #f0f8ff;}#sk-container-id-5 input.sk-toggleable__control:checked~div.sk-toggleable__content {max-height: 200px;max-width: 100%;overflow: auto;}#sk-container-id-5 input.sk-toggleable__control:checked~label.sk-toggleable__label-arrow:before {content: \"▾\";}#sk-container-id-5 div.sk-estimator input.sk-toggleable__control:checked~label.sk-toggleable__label {background-color: #d4ebff;}#sk-container-id-5 div.sk-label input.sk-toggleable__control:checked~label.sk-toggleable__label {background-color: #d4ebff;}#sk-container-id-5 input.sk-hidden--visually {border: 0;clip: rect(1px 1px 1px 1px);clip: rect(1px, 1px, 1px, 1px);height: 1px;margin: -1px;overflow: hidden;padding: 0;position: absolute;width: 1px;}#sk-container-id-5 div.sk-estimator {font-family: monospace;background-color: #f0f8ff;border: 1px dotted black;border-radius: 0.25em;box-sizing: border-box;margin-bottom: 0.5em;}#sk-container-id-5 div.sk-estimator:hover {background-color: #d4ebff;}#sk-container-id-5 div.sk-parallel-item::after {content: \"\";width: 100%;border-bottom: 1px solid gray;flex-grow: 1;}#sk-container-id-5 div.sk-label:hover label.sk-toggleable__label {background-color: #d4ebff;}#sk-container-id-5 div.sk-serial::before {content: \"\";position: absolute;border-left: 1px solid gray;box-sizing: border-box;top: 0;bottom: 0;left: 50%;z-index: 0;}#sk-container-id-5 div.sk-serial {display: flex;flex-direction: column;align-items: center;background-color: white;padding-right: 0.2em;padding-left: 0.2em;position: relative;}#sk-container-id-5 div.sk-item {position: relative;z-index: 1;}#sk-container-id-5 div.sk-parallel {display: flex;align-items: stretch;justify-content: center;background-color: white;position: relative;}#sk-container-id-5 div.sk-item::before, #sk-container-id-5 div.sk-parallel-item::before {content: \"\";position: absolute;border-left: 1px solid gray;box-sizing: border-box;top: 0;bottom: 0;left: 50%;z-index: -1;}#sk-container-id-5 div.sk-parallel-item {display: flex;flex-direction: column;z-index: 1;position: relative;background-color: white;}#sk-container-id-5 div.sk-parallel-item:first-child::after {align-self: flex-end;width: 50%;}#sk-container-id-5 div.sk-parallel-item:last-child::after {align-self: flex-start;width: 50%;}#sk-container-id-5 div.sk-parallel-item:only-child::after {width: 0;}#sk-container-id-5 div.sk-dashed-wrapped {border: 1px dashed gray;margin: 0 0.4em 0.5em 0.4em;box-sizing: border-box;padding-bottom: 0.4em;background-color: white;}#sk-container-id-5 div.sk-label label {font-family: monospace;font-weight: bold;display: inline-block;line-height: 1.2em;}#sk-container-id-5 div.sk-label-container {text-align: center;}#sk-container-id-5 div.sk-container {/* jupyter's `normalize.less` sets `[hidden] { display: none; }` but bootstrap.min.css set `[hidden] { display: none !important; }` so we also need the `!important` here to be able to override the default hidden behavior on the sphinx rendered scikit-learn.org. See: https://github.com/scikit-learn/scikit-learn/issues/21755 */display: inline-block !important;position: relative;}#sk-container-id-5 div.sk-text-repr-fallback {display: none;}</style><div id=\"sk-container-id-5\" class=\"sk-top-container\"><div class=\"sk-text-repr-fallback\"><pre>XGBClassifier(base_score=0.5, booster=&#x27;gbtree&#x27;, callbacks=None,\n",
       "              colsample_bylevel=1, colsample_bynode=1, colsample_bytree=1,\n",
       "              early_stopping_rounds=None, enable_categorical=False,\n",
       "              eval_metric=None, gamma=0, gpu_id=-1, grow_policy=&#x27;depthwise&#x27;,\n",
       "              importance_type=None, interaction_constraints=&#x27;&#x27;,\n",
       "              learning_rate=0.300000012, max_bin=256, max_cat_to_onehot=4,\n",
       "              max_delta_step=0, max_depth=6, max_leaves=0, min_child_weight=1,\n",
       "              missing=nan, monotone_constraints=&#x27;()&#x27;, n_estimators=100,\n",
       "              n_jobs=0, num_parallel_tree=1, predictor=&#x27;auto&#x27;, random_state=0,\n",
       "              reg_alpha=0, reg_lambda=1, ...)</pre><b>In a Jupyter environment, please rerun this cell to show the HTML representation or trust the notebook. <br />On GitHub, the HTML representation is unable to render, please try loading this page with nbviewer.org.</b></div><div class=\"sk-container\" hidden><div class=\"sk-item\"><div class=\"sk-estimator sk-toggleable\"><input class=\"sk-toggleable__control sk-hidden--visually\" id=\"sk-estimator-id-5\" type=\"checkbox\" checked><label for=\"sk-estimator-id-5\" class=\"sk-toggleable__label sk-toggleable__label-arrow\">XGBClassifier</label><div class=\"sk-toggleable__content\"><pre>XGBClassifier(base_score=0.5, booster=&#x27;gbtree&#x27;, callbacks=None,\n",
       "              colsample_bylevel=1, colsample_bynode=1, colsample_bytree=1,\n",
       "              early_stopping_rounds=None, enable_categorical=False,\n",
       "              eval_metric=None, gamma=0, gpu_id=-1, grow_policy=&#x27;depthwise&#x27;,\n",
       "              importance_type=None, interaction_constraints=&#x27;&#x27;,\n",
       "              learning_rate=0.300000012, max_bin=256, max_cat_to_onehot=4,\n",
       "              max_delta_step=0, max_depth=6, max_leaves=0, min_child_weight=1,\n",
       "              missing=nan, monotone_constraints=&#x27;()&#x27;, n_estimators=100,\n",
       "              n_jobs=0, num_parallel_tree=1, predictor=&#x27;auto&#x27;, random_state=0,\n",
       "              reg_alpha=0, reg_lambda=1, ...)</pre></div></div></div></div></div>"
      ],
      "text/plain": [
       "XGBClassifier(base_score=0.5, booster='gbtree', callbacks=None,\n",
       "              colsample_bylevel=1, colsample_bynode=1, colsample_bytree=1,\n",
       "              early_stopping_rounds=None, enable_categorical=False,\n",
       "              eval_metric=None, gamma=0, gpu_id=-1, grow_policy='depthwise',\n",
       "              importance_type=None, interaction_constraints='',\n",
       "              learning_rate=0.300000012, max_bin=256, max_cat_to_onehot=4,\n",
       "              max_delta_step=0, max_depth=6, max_leaves=0, min_child_weight=1,\n",
       "              missing=nan, monotone_constraints='()', n_estimators=100,\n",
       "              n_jobs=0, num_parallel_tree=1, predictor='auto', random_state=0,\n",
       "              reg_alpha=0, reg_lambda=1, ...)"
      ]
     },
     "execution_count": 55,
     "metadata": {},
     "output_type": "execute_result"
    }
   ],
   "source": [
    "xgb = XGBClassifier()\n",
    "xgb.fit(X_train, y_train)"
   ]
  },
  {
   "cell_type": "markdown",
   "id": "301d2a5e",
   "metadata": {},
   "source": [
    "#### Predict on train set"
   ]
  },
  {
   "cell_type": "code",
   "execution_count": 56,
   "id": "9fc57e98",
   "metadata": {},
   "outputs": [],
   "source": [
    "y_xgb_train_pred = xgb.predict(X_train)"
   ]
  },
  {
   "cell_type": "code",
   "execution_count": 57,
   "id": "2be54d49",
   "metadata": {},
   "outputs": [
    {
     "data": {
      "text/plain": [
       "<AxesSubplot:>"
      ]
     },
     "execution_count": 57,
     "metadata": {},
     "output_type": "execute_result"
    },
    {
     "data": {
      "image/png": "[encoded data removed]",
      "text/plain": [
       "<Figure size 432x288 with 2 Axes>"
      ]
     },
     "metadata": {
      "needs_background": "light"
     },
     "output_type": "display_data"
    }
   ],
   "source": [
    "sb.heatmap(confusion_matrix(y_train, y_xgb_train_pred), annot = True, fmt=\"d\")"
   ]
  },
  {
   "cell_type": "code",
   "execution_count": 58,
   "id": "92295b03",
   "metadata": {},
   "outputs": [
    {
     "name": "stdout",
     "output_type": "stream",
     "text": [
      "XGB Accuracy: 0.9999160369437448\n",
      "XGB Recall: 0.9998320738874895\n",
      "XGB Precision: 1.0\n",
      "XGB F2 score: 0.9998656545979714\n",
      "XGB ROC AUC Score 0.9999160369437448\n"
     ]
    }
   ],
   "source": [
    "# Evaluation of model's performance on train set\n",
    "print(\"XGB Accuracy:\", accuracy_score(y_train, y_xgb_train_pred))\n",
    "print(\"XGB Recall:\", recall_score(y_train, y_xgb_train_pred))\n",
    "print(\"XGB Precision:\", precision_score(y_train, y_xgb_train_pred))\n",
    "print(\"XGB F2 score:\", fbeta_score(y_train, y_xgb_train_pred, average='binary', beta=2))\n",
    "print('XGB ROC AUC Score', roc_auc_score(y_train, y_xgb_train_pred))"
   ]
  },
  {
   "cell_type": "markdown",
   "id": "156e4647",
   "metadata": {},
   "source": [
    "#### Predict on test set"
   ]
  },
  {
   "cell_type": "code",
   "execution_count": 59,
   "id": "0cafc21a",
   "metadata": {},
   "outputs": [],
   "source": [
    "y_xgb_test_pred = xgb.predict(X_test)"
   ]
  },
  {
   "cell_type": "code",
   "execution_count": 60,
   "id": "2dd57850",
   "metadata": {},
   "outputs": [
    {
     "data": {
      "text/plain": [
       "<AxesSubplot:>"
      ]
     },
     "execution_count": 60,
     "metadata": {},
     "output_type": "execute_result"
    },
    {
     "data": {
      "image/png": "[encoded data removed]",
      "text/plain": [
       "<Figure size 432x288 with 2 Axes>"
      ]
     },
     "metadata": {
      "needs_background": "light"
     },
     "output_type": "display_data"
    }
   ],
   "source": [
    "sb.heatmap(confusion_matrix(y_test, y_xgb_test_pred), annot = True, fmt=\"d\")"
   ]
  },
  {
   "cell_type": "code",
   "execution_count": 61,
   "id": "3c6947f9",
   "metadata": {},
   "outputs": [
    {
     "name": "stdout",
     "output_type": "stream",
     "text": [
      "XGB Accuracy: 0.9865771812080537\n",
      "XGB Recall: 0.7769230769230769\n",
      "XGB Precision: 0.9351851851851852\n",
      "XGB F2 score: 0.804140127388535\n",
      "XGB ROC AUC Score 0.8870900651073065\n"
     ]
    }
   ],
   "source": [
    "# Evaluation of model's performance on test set\n",
    "print(\"XGB Accuracy:\", accuracy_score(y_test, y_xgb_test_pred))\n",
    "print(\"XGB Recall:\", recall_score(y_test, y_xgb_test_pred))\n",
    "print(\"XGB Precision:\", precision_score(y_test, y_xgb_test_pred))\n",
    "print(\"XGB F2 score:\", fbeta_score(y_test, y_xgb_test_pred, average='binary', beta=2))\n",
    "print('XGB ROC AUC Score', roc_auc_score(y_test, y_xgb_test_pred))"
   ]
  },
  {
   "cell_type": "code",
   "execution_count": 62,
   "id": "4c8f5c8d",
   "metadata": {},
   "outputs": [
    {
     "name": "stdout",
     "output_type": "stream",
     "text": [
      "XGB F1 score: 0.8487394957983193\n"
     ]
    }
   ],
   "source": [
    "print(\"XGB F1 score:\", fbeta_score(y_test, y_xgb_test_pred, average='binary', beta=1))"
   ]
  },
  {
   "cell_type": "markdown",
   "id": "69922316",
   "metadata": {},
   "source": [
    "## 5. KNeighbors Classifier"
   ]
  },
  {
   "cell_type": "code",
   "execution_count": 63,
   "id": "3c978137",
   "metadata": {},
   "outputs": [
    {
     "data": {
      "text/html": [
       "<style>#sk-container-id-6 {color: black;background-color: white;}#sk-container-id-6 pre{padding: 0;}#sk-container-id-6 div.sk-toggleable {background-color: white;}#sk-container-id-6 label.sk-toggleable__label {cursor: pointer;display: block;width: 100%;margin-bottom: 0;padding: 0.3em;box-sizing: border-box;text-align: center;}#sk-container-id-6 label.sk-toggleable__label-arrow:before {content: \"▸\";float: left;margin-right: 0.25em;color: #696969;}#sk-container-id-6 label.sk-toggleable__label-arrow:hover:before {color: black;}#sk-container-id-6 div.sk-estimator:hover label.sk-toggleable__label-arrow:before {color: black;}#sk-container-id-6 div.sk-toggleable__content {max-height: 0;max-width: 0;overflow: hidden;text-align: left;background-color: #f0f8ff;}#sk-container-id-6 div.sk-toggleable__content pre {margin: 0.2em;color: black;border-radius: 0.25em;background-color: #f0f8ff;}#sk-container-id-6 input.sk-toggleable__control:checked~div.sk-toggleable__content {max-height: 200px;max-width: 100%;overflow: auto;}#sk-container-id-6 input.sk-toggleable__control:checked~label.sk-toggleable__label-arrow:before {content: \"▾\";}#sk-container-id-6 div.sk-estimator input.sk-toggleable__control:checked~label.sk-toggleable__label {background-color: #d4ebff;}#sk-container-id-6 div.sk-label input.sk-toggleable__control:checked~label.sk-toggleable__label {background-color: #d4ebff;}#sk-container-id-6 input.sk-hidden--visually {border: 0;clip: rect(1px 1px 1px 1px);clip: rect(1px, 1px, 1px, 1px);height: 1px;margin: -1px;overflow: hidden;padding: 0;position: absolute;width: 1px;}#sk-container-id-6 div.sk-estimator {font-family: monospace;background-color: #f0f8ff;border: 1px dotted black;border-radius: 0.25em;box-sizing: border-box;margin-bottom: 0.5em;}#sk-container-id-6 div.sk-estimator:hover {background-color: #d4ebff;}#sk-container-id-6 div.sk-parallel-item::after {content: \"\";width: 100%;border-bottom: 1px solid gray;flex-grow: 1;}#sk-container-id-6 div.sk-label:hover label.sk-toggleable__label {background-color: #d4ebff;}#sk-container-id-6 div.sk-serial::before {content: \"\";position: absolute;border-left: 1px solid gray;box-sizing: border-box;top: 0;bottom: 0;left: 50%;z-index: 0;}#sk-container-id-6 div.sk-serial {display: flex;flex-direction: column;align-items: center;background-color: white;padding-right: 0.2em;padding-left: 0.2em;position: relative;}#sk-container-id-6 div.sk-item {position: relative;z-index: 1;}#sk-container-id-6 div.sk-parallel {display: flex;align-items: stretch;justify-content: center;background-color: white;position: relative;}#sk-container-id-6 div.sk-item::before, #sk-container-id-6 div.sk-parallel-item::before {content: \"\";position: absolute;border-left: 1px solid gray;box-sizing: border-box;top: 0;bottom: 0;left: 50%;z-index: -1;}#sk-container-id-6 div.sk-parallel-item {display: flex;flex-direction: column;z-index: 1;position: relative;background-color: white;}#sk-container-id-6 div.sk-parallel-item:first-child::after {align-self: flex-end;width: 50%;}#sk-container-id-6 div.sk-parallel-item:last-child::after {align-self: flex-start;width: 50%;}#sk-container-id-6 div.sk-parallel-item:only-child::after {width: 0;}#sk-container-id-6 div.sk-dashed-wrapped {border: 1px dashed gray;margin: 0 0.4em 0.5em 0.4em;box-sizing: border-box;padding-bottom: 0.4em;background-color: white;}#sk-container-id-6 div.sk-label label {font-family: monospace;font-weight: bold;display: inline-block;line-height: 1.2em;}#sk-container-id-6 div.sk-label-container {text-align: center;}#sk-container-id-6 div.sk-container {/* jupyter's `normalize.less` sets `[hidden] { display: none; }` but bootstrap.min.css set `[hidden] { display: none !important; }` so we also need the `!important` here to be able to override the default hidden behavior on the sphinx rendered scikit-learn.org. See: https://github.com/scikit-learn/scikit-learn/issues/21755 */display: inline-block !important;position: relative;}#sk-container-id-6 div.sk-text-repr-fallback {display: none;}</style><div id=\"sk-container-id-6\" class=\"sk-top-container\"><div class=\"sk-text-repr-fallback\"><pre>KNeighborsClassifier()</pre><b>In a Jupyter environment, please rerun this cell to show the HTML representation or trust the notebook. <br />On GitHub, the HTML representation is unable to render, please try loading this page with nbviewer.org.</b></div><div class=\"sk-container\" hidden><div class=\"sk-item\"><div class=\"sk-estimator sk-toggleable\"><input class=\"sk-toggleable__control sk-hidden--visually\" id=\"sk-estimator-id-6\" type=\"checkbox\" checked><label for=\"sk-estimator-id-6\" class=\"sk-toggleable__label sk-toggleable__label-arrow\">KNeighborsClassifier</label><div class=\"sk-toggleable__content\"><pre>KNeighborsClassifier()</pre></div></div></div></div></div>"
      ],
      "text/plain": [
       "KNeighborsClassifier()"
      ]
     },
     "execution_count": 63,
     "metadata": {},
     "output_type": "execute_result"
    }
   ],
   "source": [
    "knc = KNeighborsClassifier(n_neighbors = 5, metric = 'minkowski', p = 2)\n",
    "knc.fit(X_train, y_train)"
   ]
  },
  {
   "cell_type": "markdown",
   "id": "29af1fb8",
   "metadata": {},
   "source": [
    "#### Predict on train set"
   ]
  },
  {
   "cell_type": "code",
   "execution_count": 64,
   "id": "75bad9d1",
   "metadata": {},
   "outputs": [],
   "source": [
    "y_knc_train_pred = knc.predict(X_train)"
   ]
  },
  {
   "cell_type": "code",
   "execution_count": 65,
   "id": "2915a839",
   "metadata": {},
   "outputs": [
    {
     "data": {
      "text/plain": [
       "<AxesSubplot:>"
      ]
     },
     "execution_count": 65,
     "metadata": {},
     "output_type": "execute_result"
    },
    {
     "data": {
      "image/png": "[encoded data removed]",
      "text/plain": [
       "<Figure size 432x288 with 2 Axes>"
      ]
     },
     "metadata": {
      "needs_background": "light"
     },
     "output_type": "display_data"
    }
   ],
   "source": [
    "sb.heatmap(confusion_matrix(y_train, y_knc_train_pred), annot = True, fmt=\"d\")"
   ]
  },
  {
   "cell_type": "code",
   "execution_count": 66,
   "id": "430af5e3",
   "metadata": {},
   "outputs": [
    {
     "name": "stdout",
     "output_type": "stream",
     "text": [
      "KNC Accuracy: 0.8911418975650713\n",
      "KNC Recall: 1.0\n",
      "KNC Precision: 0.8212094049506998\n",
      "KNC F2 score: 0.9582736591410136\n",
      "KNC ROC AUC Score 0.8911418975650713\n"
     ]
    }
   ],
   "source": [
    "# Evaluation of model's performance on train set\n",
    "print(\"KNC Accuracy:\", accuracy_score(y_train, y_knc_train_pred))\n",
    "print(\"KNC Recall:\", recall_score(y_train, y_knc_train_pred))\n",
    "print(\"KNC Precision:\", precision_score(y_train, y_knc_train_pred))\n",
    "print(\"KNC F2 score:\", fbeta_score(y_train, y_knc_train_pred, average='binary', beta=2))\n",
    "print('KNC ROC AUC Score', roc_auc_score(y_train, y_knc_train_pred))"
   ]
  },
  {
   "cell_type": "markdown",
   "id": "546f774f",
   "metadata": {},
   "source": [
    "#### Predict on test set"
   ]
  },
  {
   "cell_type": "code",
   "execution_count": 67,
   "id": "4aaac66c",
   "metadata": {},
   "outputs": [],
   "source": [
    "y_knc_test_pred = knc.predict(X_test)"
   ]
  },
  {
   "cell_type": "code",
   "execution_count": 68,
   "id": "01efbacc",
   "metadata": {},
   "outputs": [
    {
     "data": {
      "text/plain": [
       "<AxesSubplot:>"
      ]
     },
     "execution_count": 68,
     "metadata": {},
     "output_type": "execute_result"
    },
    {
     "data": {
      "image/png": "[encoded data removed]",
      "text/plain": [
       "<Figure size 432x288 with 2 Axes>"
      ]
     },
     "metadata": {
      "needs_background": "light"
     },
     "output_type": "display_data"
    }
   ],
   "source": [
    "sb.heatmap(confusion_matrix(y_test, y_knc_test_pred), annot = True, fmt=\"d\")"
   ]
  },
  {
   "cell_type": "code",
   "execution_count": 69,
   "id": "0c2e1390",
   "metadata": {},
   "outputs": [
    {
     "name": "stdout",
     "output_type": "stream",
     "text": [
      "KNC Accuracy: 0.744034302759135\n",
      "KNC Recall: 0.9884615384615385\n",
      "KNC Precision: 0.15795943454210204\n",
      "KNC F2 score: 0.48181477315335586\n",
      "KNC ROC AUC Score 0.860022305280926\n"
     ]
    }
   ],
   "source": [
    "# Evaluation of model's performance on test set\n",
    "print(\"KNC Accuracy:\", accuracy_score(y_test, y_knc_test_pred))\n",
    "print(\"KNC Recall:\", recall_score(y_test, y_knc_test_pred))\n",
    "print(\"KNC Precision:\", precision_score(y_test, y_knc_test_pred))\n",
    "print(\"KNC F2 score:\", fbeta_score(y_test, y_knc_test_pred, average='binary', beta=2))\n",
    "print('KNC ROC AUC Score', roc_auc_score(y_test, y_knc_test_pred))"
   ]
  },
  {
   "cell_type": "markdown",
   "id": "162eaa95",
   "metadata": {},
   "source": [
    "## 6. Decision Tree"
   ]
  },
  {
   "cell_type": "code",
   "execution_count": 70,
   "id": "f046497b",
   "metadata": {},
   "outputs": [
    {
     "data": {
      "text/html": [
       "<style>#sk-container-id-7 {color: black;background-color: white;}#sk-container-id-7 pre{padding: 0;}#sk-container-id-7 div.sk-toggleable {background-color: white;}#sk-container-id-7 label.sk-toggleable__label {cursor: pointer;display: block;width: 100%;margin-bottom: 0;padding: 0.3em;box-sizing: border-box;text-align: center;}#sk-container-id-7 label.sk-toggleable__label-arrow:before {content: \"▸\";float: left;margin-right: 0.25em;color: #696969;}#sk-container-id-7 label.sk-toggleable__label-arrow:hover:before {color: black;}#sk-container-id-7 div.sk-estimator:hover label.sk-toggleable__label-arrow:before {color: black;}#sk-container-id-7 div.sk-toggleable__content {max-height: 0;max-width: 0;overflow: hidden;text-align: left;background-color: #f0f8ff;}#sk-container-id-7 div.sk-toggleable__content pre {margin: 0.2em;color: black;border-radius: 0.25em;background-color: #f0f8ff;}#sk-container-id-7 input.sk-toggleable__control:checked~div.sk-toggleable__content {max-height: 200px;max-width: 100%;overflow: auto;}#sk-container-id-7 input.sk-toggleable__control:checked~label.sk-toggleable__label-arrow:before {content: \"▾\";}#sk-container-id-7 div.sk-estimator input.sk-toggleable__control:checked~label.sk-toggleable__label {background-color: #d4ebff;}#sk-container-id-7 div.sk-label input.sk-toggleable__control:checked~label.sk-toggleable__label {background-color: #d4ebff;}#sk-container-id-7 input.sk-hidden--visually {border: 0;clip: rect(1px 1px 1px 1px);clip: rect(1px, 1px, 1px, 1px);height: 1px;margin: -1px;overflow: hidden;padding: 0;position: absolute;width: 1px;}#sk-container-id-7 div.sk-estimator {font-family: monospace;background-color: #f0f8ff;border: 1px dotted black;border-radius: 0.25em;box-sizing: border-box;margin-bottom: 0.5em;}#sk-container-id-7 div.sk-estimator:hover {background-color: #d4ebff;}#sk-container-id-7 div.sk-parallel-item::after {content: \"\";width: 100%;border-bottom: 1px solid gray;flex-grow: 1;}#sk-container-id-7 div.sk-label:hover label.sk-toggleable__label {background-color: #d4ebff;}#sk-container-id-7 div.sk-serial::before {content: \"\";position: absolute;border-left: 1px solid gray;box-sizing: border-box;top: 0;bottom: 0;left: 50%;z-index: 0;}#sk-container-id-7 div.sk-serial {display: flex;flex-direction: column;align-items: center;background-color: white;padding-right: 0.2em;padding-left: 0.2em;position: relative;}#sk-container-id-7 div.sk-item {position: relative;z-index: 1;}#sk-container-id-7 div.sk-parallel {display: flex;align-items: stretch;justify-content: center;background-color: white;position: relative;}#sk-container-id-7 div.sk-item::before, #sk-container-id-7 div.sk-parallel-item::before {content: \"\";position: absolute;border-left: 1px solid gray;box-sizing: border-box;top: 0;bottom: 0;left: 50%;z-index: -1;}#sk-container-id-7 div.sk-parallel-item {display: flex;flex-direction: column;z-index: 1;position: relative;background-color: white;}#sk-container-id-7 div.sk-parallel-item:first-child::after {align-self: flex-end;width: 50%;}#sk-container-id-7 div.sk-parallel-item:last-child::after {align-self: flex-start;width: 50%;}#sk-container-id-7 div.sk-parallel-item:only-child::after {width: 0;}#sk-container-id-7 div.sk-dashed-wrapped {border: 1px dashed gray;margin: 0 0.4em 0.5em 0.4em;box-sizing: border-box;padding-bottom: 0.4em;background-color: white;}#sk-container-id-7 div.sk-label label {font-family: monospace;font-weight: bold;display: inline-block;line-height: 1.2em;}#sk-container-id-7 div.sk-label-container {text-align: center;}#sk-container-id-7 div.sk-container {/* jupyter's `normalize.less` sets `[hidden] { display: none; }` but bootstrap.min.css set `[hidden] { display: none !important; }` so we also need the `!important` here to be able to override the default hidden behavior on the sphinx rendered scikit-learn.org. See: https://github.com/scikit-learn/scikit-learn/issues/21755 */display: inline-block !important;position: relative;}#sk-container-id-7 div.sk-text-repr-fallback {display: none;}</style><div id=\"sk-container-id-7\" class=\"sk-top-container\"><div class=\"sk-text-repr-fallback\"><pre>DecisionTreeClassifier(criterion=&#x27;entropy&#x27;, random_state=0)</pre><b>In a Jupyter environment, please rerun this cell to show the HTML representation or trust the notebook. <br />On GitHub, the HTML representation is unable to render, please try loading this page with nbviewer.org.</b></div><div class=\"sk-container\" hidden><div class=\"sk-item\"><div class=\"sk-estimator sk-toggleable\"><input class=\"sk-toggleable__control sk-hidden--visually\" id=\"sk-estimator-id-7\" type=\"checkbox\" checked><label for=\"sk-estimator-id-7\" class=\"sk-toggleable__label sk-toggleable__label-arrow\">DecisionTreeClassifier</label><div class=\"sk-toggleable__content\"><pre>DecisionTreeClassifier(criterion=&#x27;entropy&#x27;, random_state=0)</pre></div></div></div></div></div>"
      ],
      "text/plain": [
       "DecisionTreeClassifier(criterion='entropy', random_state=0)"
      ]
     },
     "execution_count": 70,
     "metadata": {},
     "output_type": "execute_result"
    }
   ],
   "source": [
    "from sklearn.tree import DecisionTreeClassifier\n",
    "dectree = DecisionTreeClassifier(criterion = 'entropy', random_state = 0)\n",
    "dectree.fit(X_train, y_train)"
   ]
  },
  {
   "cell_type": "markdown",
   "id": "626ba075",
   "metadata": {},
   "source": [
    "#### Predict on Train set"
   ]
  },
  {
   "cell_type": "code",
   "execution_count": 71,
   "id": "50361459",
   "metadata": {},
   "outputs": [],
   "source": [
    "y_tree_train_pred = dectree.predict(X_train)"
   ]
  },
  {
   "cell_type": "code",
   "execution_count": 72,
   "id": "91263d45",
   "metadata": {},
   "outputs": [
    {
     "data": {
      "text/plain": [
       "<AxesSubplot:>"
      ]
     },
     "execution_count": 72,
     "metadata": {},
     "output_type": "execute_result"
    },
    {
     "data": {
      "image/png": "[encoded data removed]",
      "text/plain": [
       "<Figure size 432x288 with 2 Axes>"
      ]
     },
     "metadata": {
      "needs_background": "light"
     },
     "output_type": "display_data"
    }
   ],
   "source": [
    "sb.heatmap(confusion_matrix(y_train, y_tree_train_pred), annot = True, fmt=\"d\")"
   ]
  },
  {
   "cell_type": "code",
   "execution_count": 73,
   "id": "dbf6aed2",
   "metadata": {},
   "outputs": [
    {
     "name": "stdout",
     "output_type": "stream",
     "text": [
      "Decision Tree Accuracy: 1.0\n",
      "Decision Tree Recall: 1.0\n",
      "Decision Tree Precision: 1.0\n",
      "Decision Tree F2 score: 1.0\n",
      "Decision Tree ROC AUC Score 1.0\n"
     ]
    }
   ],
   "source": [
    "# Evaluation of model's performance on train set\n",
    "print(\"Decision Tree Accuracy:\", accuracy_score(y_train, y_tree_train_pred))\n",
    "print(\"Decision Tree Recall:\", recall_score(y_train, y_tree_train_pred))\n",
    "print(\"Decision Tree Precision:\", precision_score(y_train, y_tree_train_pred))\n",
    "print(\"Decision Tree F2 score:\", fbeta_score(y_train, y_tree_train_pred, average='binary', beta=2))\n",
    "print('Decision Tree ROC AUC Score', roc_auc_score(y_train, y_tree_train_pred))"
   ]
  },
  {
   "cell_type": "markdown",
   "id": "675fb34d",
   "metadata": {},
   "source": [
    "Risk of overfitting"
   ]
  },
  {
   "cell_type": "markdown",
   "id": "1b629ab6",
   "metadata": {},
   "source": [
    "#### Predict on test set"
   ]
  },
  {
   "cell_type": "code",
   "execution_count": 74,
   "id": "951c0fc3",
   "metadata": {},
   "outputs": [],
   "source": [
    "y_tree_test_pred = dectree.predict(X_test)"
   ]
  },
  {
   "cell_type": "code",
   "execution_count": 75,
   "id": "20e57f86",
   "metadata": {},
   "outputs": [
    {
     "data": {
      "text/plain": [
       "<AxesSubplot:>"
      ]
     },
     "execution_count": 75,
     "metadata": {},
     "output_type": "execute_result"
    },
    {
     "data": {
      "image/png": "[encoded data removed]",
      "text/plain": [
       "<Figure size 432x288 with 2 Axes>"
      ]
     },
     "metadata": {
      "needs_background": "light"
     },
     "output_type": "display_data"
    }
   ],
   "source": [
    "sb.heatmap(confusion_matrix(y_test, y_tree_test_pred), annot = True, fmt=\"d\")"
   ]
  },
  {
   "cell_type": "code",
   "execution_count": 76,
   "id": "47f6c0a0",
   "metadata": {},
   "outputs": [
    {
     "name": "stdout",
     "output_type": "stream",
     "text": [
      "Decision Tree Accuracy: 0.9638329604772558\n",
      "Decision Tree Recall: 0.7615384615384615\n",
      "Decision Tree Precision: 0.6\n",
      "Decision Tree F2 score: 0.7226277372262774\n",
      "Decision Tree ROC AUC Score 0.8678381962864722\n"
     ]
    }
   ],
   "source": [
    "# Evaluation of model's performance on test set\n",
    "print(\"Decision Tree Accuracy:\", accuracy_score(y_test, y_tree_test_pred))\n",
    "print(\"Decision Tree Recall:\", recall_score(y_test, y_tree_test_pred))\n",
    "print(\"Decision Tree Precision:\", precision_score(y_test, y_tree_test_pred))\n",
    "print(\"Decision Tree F2 score:\", fbeta_score(y_test, y_tree_test_pred, average='binary', beta=2))\n",
    "print('Decision Tree ROC AUC Score', roc_auc_score(y_test, y_tree_test_pred))"
   ]
  },
  {
   "cell_type": "markdown",
   "id": "c2f13dca",
   "metadata": {},
   "source": [
    "## Evaluation 6 Models"
   ]
  },
  {
   "cell_type": "code",
   "execution_count": 77,
   "id": "0b695d57",
   "metadata": {},
   "outputs": [],
   "source": [
    "roc_score = {}\n",
    "f2_score = {}\n",
    "rc_score = {}\n",
    "pr_score = {}"
   ]
  },
  {
   "cell_type": "code",
   "execution_count": 78,
   "id": "becb8a23",
   "metadata": {},
   "outputs": [],
   "source": [
    "roc_score['Logistic Regression']= roc_auc_score(y_test, y_test_logreg_pred)\n",
    "roc_score['Random Forest']= roc_auc_score(y_test, y_fr_test_pred)\n",
    "roc_score['SVM']= roc_auc_score(y_test, y_svm_test_pred)\n",
    "roc_score['XGBoost']= roc_auc_score(y_test, y_xgb_test_pred)\n",
    "roc_score['K-Neighbour Classifier']= roc_auc_score(y_test, y_knc_test_pred)\n",
    "roc_score['Decision Tree']= roc_auc_score(y_test, y_tree_test_pred)"
   ]
  },
  {
   "cell_type": "code",
   "execution_count": 79,
   "id": "c5d4cd3c",
   "metadata": {},
   "outputs": [],
   "source": [
    "f2_score['Logistic Regression']= fbeta_score(y_test, y_test_logreg_pred, average='binary', beta=2)\n",
    "f2_score['Random Forest']= fbeta_score(y_test, y_fr_test_pred, average='binary', beta=2)\n",
    "f2_score['SVM']= fbeta_score(y_test, y_svm_test_pred, average='binary', beta=2)\n",
    "f2_score['XGBoost']= fbeta_score(y_test, y_xgb_test_pred, average='binary', beta=2)\n",
    "f2_score['K-Neighbour Classifier']= fbeta_score(y_test, y_knc_test_pred, average='binary', beta=2)\n",
    "f2_score['Decision Tree']= fbeta_score(y_test, y_tree_test_pred, average='binary', beta=2)"
   ]
  },
  {
   "cell_type": "code",
   "execution_count": 80,
   "id": "f47ca5ec",
   "metadata": {},
   "outputs": [],
   "source": [
    "rc_score['Logistic Regression']= recall_score(y_test, y_test_logreg_pred)\n",
    "rc_score['Random Forest']= recall_score(y_test, y_fr_test_pred)\n",
    "rc_score['SVM']= recall_score(y_test, y_svm_test_pred)\n",
    "rc_score['XGBoost']= recall_score(y_test, y_xgb_test_pred)\n",
    "rc_score['K-Neighbour Classifier']= recall_score(y_test, y_knc_test_pred)\n",
    "rc_score['Decision Tree']= recall_score(y_test, y_tree_test_pred)"
   ]
  },
  {
   "cell_type": "code",
   "execution_count": 81,
   "id": "aa712ed7",
   "metadata": {},
   "outputs": [],
   "source": [
    "pr_score['Logistic Regression']= precision_score(y_test, y_test_logreg_pred)\n",
    "pr_score['Random Forest']= precision_score(y_test, y_fr_test_pred)\n",
    "pr_score['SVM']= precision_score(y_test, y_svm_test_pred)\n",
    "pr_score['XGBoost']= precision_score(y_test, y_xgb_test_pred)\n",
    "pr_score['K-Neighbour Classifier']= precision_score(y_test, y_knc_test_pred)\n",
    "pr_score['Decision Tree']= precision_score(y_test, y_tree_test_pred)"
   ]
  },
  {
   "cell_type": "code",
   "execution_count": 82,
   "id": "93a201ea",
   "metadata": {},
   "outputs": [
    {
     "data": {
      "image/png": "[encoded data removed]",
      "text/plain": [
       "<Figure size 576x288 with 1 Axes>"
      ]
     },
     "metadata": {
      "needs_background": "light"
     },
     "output_type": "display_data"
    }
   ],
   "source": [
    "#Plot ROC AUC Score and F2 Score\n",
    "plt.figure(figsize=(8, 4))\n",
    "plt.plot(list(roc_score.values()));\n",
    "plt.plot(list(f2_score.values()));\n",
    "plt.xticks(ticks=range(0, len(roc_score)), labels=roc_score.keys(), rotation=90);\n",
    "plt.title('Scores of Different Models');\n",
    "plt.xlabel('Classifier');\n",
    "plt.ylabel('Score');\n",
    "plt.legend(['ROC AUC Score', 'F2 Score'], fontsize='medium');"
   ]
  },
  {
   "cell_type": "code",
   "execution_count": 83,
   "id": "07c79eb3",
   "metadata": {},
   "outputs": [
    {
     "data": {
      "image/png": "[encoded data removed]",
      "text/plain": [
       "<Figure size 576x288 with 1 Axes>"
      ]
     },
     "metadata": {
      "needs_background": "light"
     },
     "output_type": "display_data"
    }
   ],
   "source": [
    "#Plot Recall and Precision Score\n",
    "plt.figure(figsize=(8, 4))\n",
    "plt.plot(list(rc_score.values()));\n",
    "plt.plot(list(pr_score.values()));\n",
    "plt.xticks(ticks=range(0, len(rc_score)), labels=roc_score.keys(), rotation=90);\n",
    "plt.title('Scores of Different Models');\n",
    "plt.xlabel('Classifier');\n",
    "plt.ylabel('Score');\n",
    "plt.legend(['Recall Score', 'Precision Score'], fontsize='medium');\n"
   ]
  },
  {
   "cell_type": "markdown",
   "id": "e19d7010",
   "metadata": {},
   "source": [
    "# Conclusion"
   ]
  },
  {
   "cell_type": "markdown",
   "id": "8f512ce9",
   "metadata": {},
   "source": [
    "Since want to use minimize False Negative (incorrectly predict fraudulent jobs as non-fraudulent), we pay more attention to Recall and F2 score. When there are more than 1 model with approximately the same recall and F2 score, we take other evaluation metrics (accuracy, prediction, F1 score, AUC ROC score) in to consideration."
   ]
  },
  {
   "cell_type": "markdown",
   "id": "9a620325",
   "metadata": {},
   "source": [
    "We can see that **Logistic Regression model** has the best overall performance on the test set among all the models."
   ]
  },
  {
   "cell_type": "markdown",
   "id": "5fea7968",
   "metadata": {},
   "source": [
    "'''\n",
    "base_score=0.5, booster='gbtree', callbacks=None,\n",
    "              colsample_bylevel=1, colsample_bynode=1, colsample_bytree=1,\n",
    "              early_stopping_rounds=None, enable_categorical=False,\n",
    "              eval_metric=None, gamma=0, gpu_id=-1, grow_policy='depthwise',\n",
    "              importance_type=None, interaction_constraints='',\n",
    "              learning_rate=0.300000012, max_bin=256, max_cat_to_onehot=4,\n",
    "              max_delta_step=0, max_depth=6, max_leaves=0, min_child_weight=1,\n",
    "              missing=nan, monotone_constraints='()', n_estimators=100,\n",
    "              n_jobs=0, num_parallel_tree=1, predictor='auto', random_state=0,\n",
    "              reg_alpha=0, reg_lambda=1,\n",
    "'''"
   ]
  },
  {
   "cell_type": "markdown",
   "id": "dd678979",
   "metadata": {},
   "source": [
    "# Save the model"
   ]
  },
  {
   "cell_type": "code",
   "execution_count": 84,
   "id": "e88c8f9a",
   "metadata": {},
   "outputs": [],
   "source": [
    "from joblib import dump, load"
   ]
  },
  {
   "cell_type": "code",
   "execution_count": 85,
   "id": "3bc5d7af",
   "metadata": {},
   "outputs": [
    {
     "data": {
      "text/plain": [
       "['logregmodel.joblib']"
      ]
     },
     "execution_count": 85,
     "metadata": {},
     "output_type": "execute_result"
    }
   ],
   "source": [
    "dump(logreg, 'logregmodel.joblib')"
   ]
  },
  {
   "cell_type": "markdown",
   "id": "0f871d59",
   "metadata": {},
   "source": [
    "# Load the saved model"
   ]
  },
  {
   "cell_type": "code",
   "execution_count": 86,
   "id": "290a93e0",
   "metadata": {},
   "outputs": [],
   "source": [
    "model = load('logregmodel.joblib') "
   ]
  },
  {
   "cell_type": "markdown",
   "id": "945f2aae",
   "metadata": {},
   "source": [
    "# Try to predict an input"
   ]
  },
  {
   "cell_type": "markdown",
   "id": "ee094fcc",
   "metadata": {},
   "source": [
    "## Predict a fake job posting from the dataset"
   ]
  },
  {
   "cell_type": "code",
   "execution_count": 87,
   "id": "d24ef301",
   "metadata": {},
   "outputs": [
    {
     "name": "stdout",
     "output_type": "stream",
     "text": [
      "IC&E Technician\n"
     ]
    }
   ],
   "source": [
    "title = input()"
   ]
  },
  {
   "cell_type": "code",
   "execution_count": 88,
   "id": "19e248fb",
   "metadata": {},
   "outputs": [
    {
     "name": "stdout",
     "output_type": "stream",
     "text": [
      "Oil & Energy\n"
     ]
    }
   ],
   "source": [
    "department = input()"
   ]
  },
  {
   "cell_type": "code",
   "execution_count": 89,
   "id": "49932ca4",
   "metadata": {},
   "outputs": [
    {
     "name": "stdout",
     "output_type": "stream",
     "text": [
      "Â  Â  Â  Â  Â  Â  Â  Â  Â  Â  Â  Â  Â  Â  Â  Â  Â  Â  Â  Â  Â  Â  Â  Â  Â  Â  Â  Â  Â  Â  Â  Â  Â  Â  Â  Â  Â  Â  Â  Â  Â Staffing &amp; Recruiting done right for the Oil &amp; Energy Industry!Represented candidates are automatically granted the following perks: Expert negotiations on your behalf, maximizing your compensation package and implimenting ongoing increasesÂ Significant signing bonus by Refined Resources (in addition to any potential signing bonuses our client companies offer)1 Year access to AnyPerk: significant corporate discounts on cell phones, event tickets, house cleaning and everything inbetween. Â You'll save thousands on daily expendituresÂ Professional Relocation Services for out of town candidates* All candidates are encouraged to participate in our Referral Bonus Program ranging anywhere from $500 - $1,000 for all successfully hired candidates... referred directly to the Refined Resources teamPlease submit referrals via online Referral FormThank you and we look forward to working with you soon! Â [ Click to enlarge Image ]\n"
     ]
    }
   ],
   "source": [
    "company_profile = input()"
   ]
  },
  {
   "cell_type": "code",
   "execution_count": 90,
   "id": "0abe6ce0",
   "metadata": {},
   "outputs": [
    {
     "name": "stdout",
     "output_type": "stream",
     "text": [
      "IC&amp;E Technician | Bakersfield, CA Mt. PosoPrincipal Duties and Responsibilities:Â Calibrates, tests, maintains, troubleshoots, and installs all power plant instrumentation, control systems and electrical equipment.Performs maintenance on motor control centers, motor operated valves, generators, excitation equipment and motors.Performs preventive, predictive and corrective maintenance on equipment, coordinating work with various team members.Designs and installs new equipment and/or system modifications.Troubleshoots and performs maintenance on DC backup power equipment, process controls, programmable logic controls (PLC), and emission monitoring equipment.Uses maintenance reporting system to record time and material use, problem identified and corrected, and further action required; provides complete history of maintenance on equipment.Schedule, coordinate, work with and monitor contractors on specific tasks, as required.Follows safe working practices at all times.Identifies safety hazards and recommends solutions.Follows environmental compliance work practices.Identifies environmental non-compliance problems and assist in implementing solutions.Assists other team members and works with all departments to support generating station in achieving their performance goals.Trains other team members in the areas of instrumentation, control, and electrical systems.Performs housekeeping assignments, as directed.Conduct equipment and system tagging according to company and plant rules and regulations.Perform equipment safety inspections, as required, and record results as appropriate.Â Participate in small construction projects.Â  Read and interpret drawings, sketches, prints, and specifications, as required.Orders parts as needed to affect maintenance and repair.Performs Operations tasks on an as-needed basis and other tasks as assigned.Available within a reasonable response time for emergency call-ins and overtime, plus provide acceptable off-hour contact by phone and company pager.Â Â Â Â Â Â Â Â Â  Excellent Verbal and Written Communications Skills:Ability to coordinate work activities with other team members on technical subjects across job families.Ability to work weekends, holidays, and rotating shifts, as required.\n"
     ]
    }
   ],
   "source": [
    "description = input()"
   ]
  },
  {
   "cell_type": "code",
   "execution_count": 91,
   "id": "6684e340",
   "metadata": {},
   "outputs": [
    {
     "name": "stdout",
     "output_type": "stream",
     "text": [
      "IC&amp;E Technician | Bakersfield, CA Mt. PosoPrincipal Duties and Responsibilities:Â Calibrates, tests, maintains, troubleshoots, and installs all power plant instrumentation, control systems and electrical equipment.Performs maintenance on motor control centers, motor operated valves, generators, excitation equipment and motors.Performs preventive, predictive and corrective maintenance on equipment, coordinating work with various team members.Designs and installs new equipment and/or system modifications.Troubleshoots and performs maintenance on DC backup power equipment, process controls, programmable logic controls (PLC), and emission monitoring equipment.Uses maintenance reporting system to record time and material use, problem identified and corrected, and further action required; provides complete history of maintenance on equipment.Schedule, coordinate, work with and monitor contractors on specific tasks, as required.Follows safe working practices at all times.Identifies safety hazards and recommends solutions.Follows environmental compliance work practices.Identifies environmental non-compliance problems and assist in implementing solutions.Assists other team members and works with all departments to support generating station in achieving their performance goals.Trains other team members in the areas of instrumentation, control, and electrical systems.Performs housekeeping assignments, as directed.Conduct equipment and system tagging according to company and plant rules and regulations.Perform equipment safety inspections, as required, and record results as appropriate.Â Participate in small construction projects.Â  Read and interpret drawings, sketches, prints, and specifications, as required.Orders parts as needed to affect maintenance and repair.Performs Operations tasks on an as-needed basis and other tasks as assigned.Available within a reasonable response time for emergency call-ins and overtime, plus provide acceptable off-hour contact by phone and company pager.Â Â Â Â Â Â Â Â Â  Excellent Verbal and Written Communications Skills:Ability to coordinate work activities with other team members on technical subjects across job families.Ability to work weekends, holidays, and rotating shifts, as required.\n"
     ]
    }
   ],
   "source": [
    "requirements = input()"
   ]
  },
  {
   "cell_type": "code",
   "execution_count": 92,
   "id": "2f4ac574",
   "metadata": {},
   "outputs": [
    {
     "name": "stdout",
     "output_type": "stream",
     "text": [
      "BENEFITSWhat is offered:Competitive compensation package100% matched retirement fundAnnual vacations paid for by companySignificant bonus structureOpportunity for advancementÂ Full benefits packageAnnual performance reviews and base salary increasesAnnual cost of living increasesÂ Sound, clean, safe and enjoyable working environment &amp; Company CultureWorld renound management and executive team who promote from within, leverage careers and invest in employees for the long-term success of their careers and overall company/employee goalsQualified candidates contact:Â Darren Lawson | VP of Recruiting |Â #EMAIL_395225df8eed70288fc67310349d63d49d5f2ca6bc14dbb5dcbf9296069ad88c#Â | #PHONE_70128aad0c118273b0c2198a08d528591b932924e165b6a8d1272a6f9e2763d1#Â Â Â\n"
     ]
    }
   ],
   "source": [
    "benefits = input()"
   ]
  },
  {
   "cell_type": "code",
   "execution_count": 93,
   "id": "b196bc9a",
   "metadata": {},
   "outputs": [
    {
     "name": "stdout",
     "output_type": "stream",
     "text": [
      "Full-time\n"
     ]
    }
   ],
   "source": [
    "employment_type = input()"
   ]
  },
  {
   "cell_type": "code",
   "execution_count": 94,
   "id": "e7009652",
   "metadata": {},
   "outputs": [
    {
     "name": "stdout",
     "output_type": "stream",
     "text": [
      "Mid-Senior level\n"
     ]
    }
   ],
   "source": [
    "required_experience = input()"
   ]
  },
  {
   "cell_type": "code",
   "execution_count": 95,
   "id": "13f656c5",
   "metadata": {},
   "outputs": [
    {
     "name": "stdout",
     "output_type": "stream",
     "text": [
      "High School or equivalent\n"
     ]
    }
   ],
   "source": [
    "required_education = input()"
   ]
  },
  {
   "cell_type": "code",
   "execution_count": 96,
   "id": "179ce5e2",
   "metadata": {},
   "outputs": [
    {
     "name": "stdout",
     "output_type": "stream",
     "text": [
      "Oil & Energy\n"
     ]
    }
   ],
   "source": [
    "industry = input()"
   ]
  },
  {
   "cell_type": "code",
   "execution_count": 97,
   "id": "b5ef20ba",
   "metadata": {},
   "outputs": [
    {
     "name": "stdout",
     "output_type": "stream",
     "text": [
      "Other\n"
     ]
    }
   ],
   "source": [
    "function = input()"
   ]
  },
  {
   "cell_type": "code",
   "execution_count": 98,
   "id": "429089a8",
   "metadata": {},
   "outputs": [],
   "source": [
    "trial = pd.DataFrame({'title':title,'department':department,'company_profile':company_profile,'description':description,'requirements':requirements,'benefits':benefits,'employment_type':employment_type, \"required_experience\":required_experience, \"required_education\":required_education, \"industry\":industry, \"function\":function}, index=[0])"
   ]
  },
  {
   "cell_type": "code",
   "execution_count": 99,
   "id": "35b9938a",
   "metadata": {},
   "outputs": [
    {
     "data": {
      "text/html": [
       "<div>\n",
       "<style scoped>\n",
       "    .dataframe tbody tr th:only-of-type {\n",
       "        vertical-align: middle;\n",
       "    }\n",
       "\n",
       "    .dataframe tbody tr th {\n",
       "        vertical-align: top;\n",
       "    }\n",
       "\n",
       "    .dataframe thead th {\n",
       "        text-align: right;\n",
       "    }\n",
       "</style>\n",
       "<table border=\"1\" class=\"dataframe\">\n",
       "  <thead>\n",
       "    <tr style=\"text-align: right;\">\n",
       "      <th></th>\n",
       "      <th>title</th>\n",
       "      <th>department</th>\n",
       "      <th>company_profile</th>\n",
       "      <th>description</th>\n",
       "      <th>requirements</th>\n",
       "      <th>benefits</th>\n",
       "      <th>employment_type</th>\n",
       "      <th>required_experience</th>\n",
       "      <th>required_education</th>\n",
       "      <th>industry</th>\n",
       "      <th>function</th>\n",
       "    </tr>\n",
       "  </thead>\n",
       "  <tbody>\n",
       "    <tr>\n",
       "      <th>0</th>\n",
       "      <td>IC&amp;E Technician</td>\n",
       "      <td>Oil &amp; Energy</td>\n",
       "      <td>Â  Â  Â  Â  Â  Â  Â  Â  Â  Â  Â  Â  Â  Â  Â  Â...</td>\n",
       "      <td>IC&amp;amp;E Technician | Bakersfield, CA Mt. Poso...</td>\n",
       "      <td>IC&amp;amp;E Technician | Bakersfield, CA Mt. Poso...</td>\n",
       "      <td>BENEFITSWhat is offered:Competitive compensati...</td>\n",
       "      <td>Full-time</td>\n",
       "      <td>Mid-Senior level</td>\n",
       "      <td>High School or equivalent</td>\n",
       "      <td>Oil &amp; Energy</td>\n",
       "      <td>Other</td>\n",
       "    </tr>\n",
       "  </tbody>\n",
       "</table>\n",
       "</div>"
      ],
      "text/plain": [
       "             title    department  \\\n",
       "0  IC&E Technician  Oil & Energy   \n",
       "\n",
       "                                     company_profile  \\\n",
       "0  Â  Â  Â  Â  Â  Â  Â  Â  Â  Â  Â  Â  Â  Â  Â  Â...   \n",
       "\n",
       "                                         description  \\\n",
       "0  IC&amp;E Technician | Bakersfield, CA Mt. Poso...   \n",
       "\n",
       "                                        requirements  \\\n",
       "0  IC&amp;E Technician | Bakersfield, CA Mt. Poso...   \n",
       "\n",
       "                                            benefits employment_type  \\\n",
       "0  BENEFITSWhat is offered:Competitive compensati...       Full-time   \n",
       "\n",
       "  required_experience         required_education      industry function  \n",
       "0    Mid-Senior level  High School or equivalent  Oil & Energy    Other  "
      ]
     },
     "execution_count": 99,
     "metadata": {},
     "output_type": "execute_result"
    }
   ],
   "source": [
    "trial.head()"
   ]
  },
  {
   "cell_type": "markdown",
   "id": "be0a4979",
   "metadata": {},
   "source": [
    "#### Combine text columns"
   ]
  },
  {
   "cell_type": "code",
   "execution_count": 100,
   "id": "16f9c07f",
   "metadata": {},
   "outputs": [],
   "source": [
    "text_data=trial.select_dtypes(include=\"object\")\n",
    "text_col=text_data.columns\n",
    "trial[text_col]=trial[text_col].replace(np.nan,\"\")"
   ]
  },
  {
   "cell_type": "code",
   "execution_count": 101,
   "id": "2bf7ad9e",
   "metadata": {},
   "outputs": [],
   "source": [
    "trial['text'] = \"\"\n",
    "for col in text_data.columns:\n",
    "    trial[\"text\"] = trial[\"text\"] + \" \" + trial[col]"
   ]
  },
  {
   "cell_type": "code",
   "execution_count": 102,
   "id": "1ad3afd8",
   "metadata": {},
   "outputs": [],
   "source": [
    "predictor = trial[['text']]"
   ]
  },
  {
   "cell_type": "code",
   "execution_count": 103,
   "id": "3b3f91fc",
   "metadata": {},
   "outputs": [
    {
     "data": {
      "text/html": [
       "<div>\n",
       "<style scoped>\n",
       "    .dataframe tbody tr th:only-of-type {\n",
       "        vertical-align: middle;\n",
       "    }\n",
       "\n",
       "    .dataframe tbody tr th {\n",
       "        vertical-align: top;\n",
       "    }\n",
       "\n",
       "    .dataframe thead th {\n",
       "        text-align: right;\n",
       "    }\n",
       "</style>\n",
       "<table border=\"1\" class=\"dataframe\">\n",
       "  <thead>\n",
       "    <tr style=\"text-align: right;\">\n",
       "      <th></th>\n",
       "      <th>text</th>\n",
       "    </tr>\n",
       "  </thead>\n",
       "  <tbody>\n",
       "    <tr>\n",
       "      <th>0</th>\n",
       "      <td>IC&amp;E Technician Oil &amp; Energy Â  Â  Â  Â  Â  Â...</td>\n",
       "    </tr>\n",
       "  </tbody>\n",
       "</table>\n",
       "</div>"
      ],
      "text/plain": [
       "                                                text\n",
       "0   IC&E Technician Oil & Energy Â  Â  Â  Â  Â  Â..."
      ]
     },
     "execution_count": 103,
     "metadata": {},
     "output_type": "execute_result"
    }
   ],
   "source": [
    "predictor.head()"
   ]
  },
  {
   "cell_type": "markdown",
   "id": "7a8f843d",
   "metadata": {},
   "source": [
    "#### Clean the text"
   ]
  },
  {
   "cell_type": "code",
   "execution_count": 104,
   "id": "7200b934",
   "metadata": {},
   "outputs": [
    {
     "name": "stderr",
     "output_type": "stream",
     "text": [
      "C:\\Users\\Pham Thuy Linh\\AppData\\Local\\Temp\\ipykernel_5968\\311436810.py:1: SettingWithCopyWarning: \n",
      "A value is trying to be set on a copy of a slice from a DataFrame.\n",
      "Try using .loc[row_indexer,col_indexer] = value instead\n",
      "\n",
      "See the caveats in the documentation: https://pandas.pydata.org/pandas-docs/stable/user_guide/indexing.html#returning-a-view-versus-a-copy\n",
      "  predictor[\"text\"]=predictor[\"text\"].apply(clean)\n"
     ]
    }
   ],
   "source": [
    "predictor[\"text\"]=predictor[\"text\"].apply(clean)"
   ]
  },
  {
   "cell_type": "code",
   "execution_count": 105,
   "id": "ed3d1500",
   "metadata": {},
   "outputs": [
    {
     "data": {
      "text/plain": [
       "'ic technician oil energi staf amp recruit done right oil amp energi industri repr candid automat grant follow perk expert negoti behalf maxim compen packag impliment ongo increasesâ signif sign bonu refin resourc addit potenti sign bonu client compani offer year access anyperk signif corpor discount cell phone event ticket hou clean everyth inbetween save thousand daili expendituresâ profess reloc servic town candid candid encourag particip referr bonu program rang anywh success hire candid refer direct refin resourc teamplea submit referr via onlin referr formthank look forward work soon click enlarg imag ic amp technician bakersfield ca mt posoprincip duti respon calibr test maintain troubleshoot instal power plant instrument control system electr equip perform mainten motor control center motor oper valv generat excit equip motor perform prevent predict correct mainten equip coordin work variou team member design instal new equip system modif troubleshoot perform mainten dc backup power equip process control programm logic control plc emiss monitor equip use mainten report system record time materi use problem identifi correct action requir provid complet histori mainten equip schedul coordin work monitor contractor specif task requir follow safe work practic time identifi safeti hazard recommend solut follow environ complianc work practic identifi environ non complianc problem assist implement solut assist team member work depart support generat station achiev perform goal train team member area instrument control electr system perform housekeep assign direct conduct equip system tag accord compani plant rule regul perform equip safeti inspect requir record result appropri particip small construct project read interpret draw sketch print specif requir order part need affect mainten repair perform oper task need basi task assign avail within reason respon time emerg call in overtim plu provid accept hour contact phone compani pager â â â â excel verbal written commun skill abil coordin work activ team member technic subject across job famili abil work weekend holiday rotat shift requir ic amp technician bakersfield ca mt posoprincip duti respon calibr test maintain troubleshoot instal power plant instrument control system electr equip perform mainten motor control center motor oper valv generat excit equip motor perform prevent predict correct mainten equip coordin work variou team member design instal new equip system modif troubleshoot perform mainten dc backup power equip process control programm logic control plc emiss monitor equip use mainten report system record time materi use problem identifi correct action requir provid complet histori mainten equip schedul coordin work monitor contractor specif task requir follow safe work practic time identifi safeti hazard recommend solut follow environ complianc work practic identifi environ non complianc problem assist implement solut assist team member work depart support generat station achiev perform goal train team member area instrument control electr system perform housekeep assign direct conduct equip system tag accord compani plant rule regul perform equip safeti inspect requir record result appropri particip small construct project read interpret draw sketch print specif requir order part need affect mainten repair perform oper task need basi task assign avail within reason respon time emerg call in overtim plu provid accept hour contact phone compani pager â â â â excel verbal written commun skill abil coordin work activ team member technic subject across job famili abil work weekend holiday rotat shift requir benefitswhat offer competit compen packag match retir fundannu vacat paid companysignif bonu structureopportun advancementâ full benefit packageannu perform review base salari increasesannu cost live increasesâ sound clean safe enjoy work environ amp compani cultureworld renound manag execut team promot within leverag career invest employ long term success career over compani employ goalsqualifi candid contact darren lawson vp recruit email df eed fc f ca bc dbb dcbf ad â phone aad b b b f â full time mid senior level high school equiv oil energi'"
      ]
     },
     "execution_count": 105,
     "metadata": {},
     "output_type": "execute_result"
    }
   ],
   "source": [
    "predictor['text'][0]"
   ]
  },
  {
   "cell_type": "markdown",
   "id": "e48f5a08",
   "metadata": {},
   "source": [
    "#### Vectorizer"
   ]
  },
  {
   "cell_type": "code",
   "execution_count": 106,
   "id": "9a86bdd2",
   "metadata": {},
   "outputs": [],
   "source": [
    "X_trial = tfidf.transform(predictor['text'])"
   ]
  },
  {
   "cell_type": "code",
   "execution_count": 107,
   "id": "8479eef1",
   "metadata": {},
   "outputs": [
    {
     "data": {
      "text/plain": [
       "<1x68435 sparse matrix of type '<class 'numpy.float64'>'\n",
       "\twith 257 stored elements in Compressed Sparse Row format>"
      ]
     },
     "execution_count": 107,
     "metadata": {},
     "output_type": "execute_result"
    }
   ],
   "source": [
    "X_trial"
   ]
  },
  {
   "cell_type": "markdown",
   "id": "402d7a0d",
   "metadata": {},
   "source": [
    "#### Predict (result: fake)"
   ]
  },
  {
   "cell_type": "code",
   "execution_count": 108,
   "id": "cc030499",
   "metadata": {},
   "outputs": [],
   "source": [
    "y_trial = model.predict(X_trial)"
   ]
  },
  {
   "cell_type": "code",
   "execution_count": 109,
   "id": "45c05339",
   "metadata": {},
   "outputs": [
    {
     "data": {
      "text/plain": [
       "array([1], dtype=int64)"
      ]
     },
     "execution_count": 109,
     "metadata": {},
     "output_type": "execute_result"
    }
   ],
   "source": [
    "y_trial"
   ]
  },
  {
   "cell_type": "code",
   "execution_count": 110,
   "id": "df2d9c38",
   "metadata": {},
   "outputs": [
    {
     "name": "stdout",
     "output_type": "stream",
     "text": [
      "[1]\n"
     ]
    }
   ],
   "source": [
    "print(y_trial)"
   ]
  },
  {
   "cell_type": "code",
   "execution_count": 111,
   "id": "d1f6091c",
   "metadata": {},
   "outputs": [
    {
     "data": {
      "text/plain": [
       "numpy.ndarray"
      ]
     },
     "execution_count": 111,
     "metadata": {},
     "output_type": "execute_result"
    }
   ],
   "source": [
    "type(y_trial)"
   ]
  },
  {
   "cell_type": "code",
   "execution_count": 112,
   "id": "a097fd9e",
   "metadata": {},
   "outputs": [
    {
     "data": {
      "text/plain": [
       "1"
      ]
     },
     "execution_count": 112,
     "metadata": {},
     "output_type": "execute_result"
    }
   ],
   "source": [
    "y_trial[0]"
   ]
  },
  {
   "cell_type": "markdown",
   "id": "1ae89daf",
   "metadata": {},
   "source": [
    "**--> correctly predict fraudulent job ad**"
   ]
  },
  {
   "cell_type": "markdown",
   "id": "94bae62c",
   "metadata": {},
   "source": [
    "## Predict (a real job from Shopee Career - not in the dataset)"
   ]
  },
  {
   "cell_type": "code",
   "execution_count": 113,
   "id": "5737feb9",
   "metadata": {},
   "outputs": [
    {
     "name": "stdout",
     "output_type": "stream",
     "text": [
      "Data Analytics Intern\n"
     ]
    }
   ],
   "source": [
    "title = input()"
   ]
  },
  {
   "cell_type": "code",
   "execution_count": 114,
   "id": "d64a6d8e",
   "metadata": {},
   "outputs": [
    {
     "name": "stdout",
     "output_type": "stream",
     "text": [
      "Cross Border eCommerce\n"
     ]
    }
   ],
   "source": [
    "department = input()"
   ]
  },
  {
   "cell_type": "code",
   "execution_count": 115,
   "id": "3c23973f",
   "metadata": {},
   "outputs": [
    {
     "name": "stdout",
     "output_type": "stream",
     "text": [
      "The Cross Border team at Shopee empowers sellers from all over the world to sell into the Southeast Asia and Taiwan region. The team helps sellers to market their products across the 7 markets and provide enabling services such as cross border logistics, operations, payments, product related services, overseas warehouse fulfillment and business intelligence. Browse our Cross Border eCommerce team openings to see how you can make an impact with us.\n"
     ]
    }
   ],
   "source": [
    "company_profile = input()"
   ]
  },
  {
   "cell_type": "code",
   "execution_count": 116,
   "id": "ff8a94c6",
   "metadata": {},
   "outputs": [
    {
     "name": "stdout",
     "output_type": "stream",
     "text": [
      "Analyse cross border performance and develop insights on the driving factors behind the figures using SQL and Python Monitor operational key performance indexes and conduct root cause analysis on key performance index fluctuation for feedback to local teams Understand the current systems’ capabilities and limitations and provide continuous improvement for systems and processes Provide feedback to and collaborate with other departments to improve overall operations efficiency\n"
     ]
    }
   ],
   "source": [
    "description = input()"
   ]
  },
  {
   "cell_type": "code",
   "execution_count": 117,
   "id": "0507bf2a",
   "metadata": {},
   "outputs": [
    {
     "name": "stdout",
     "output_type": "stream",
     "text": [
      "Currently pursuing a Bachelor's Degree with majors in relevant field Strong analytical skill and sensitivity to data Strong oral and written communication skill Creative and innovative approach to solving problems Positive, team-player, and energetic attitude Strong knowledge in Microsoft Excel Knowledge in SQL and/or Python is required Full-time interns preferred (3-6 months) Part-time interns who can commit at least 3 working days a week are also welcome to apply\n"
     ]
    }
   ],
   "source": [
    "requirements = input()"
   ]
  },
  {
   "cell_type": "code",
   "execution_count": 118,
   "id": "33b594b2",
   "metadata": {},
   "outputs": [
    {
     "name": "stdout",
     "output_type": "stream",
     "text": [
      " \n"
     ]
    }
   ],
   "source": [
    "benefits = input()"
   ]
  },
  {
   "cell_type": "code",
   "execution_count": 119,
   "id": "2616ef9a",
   "metadata": {},
   "outputs": [
    {
     "name": "stdout",
     "output_type": "stream",
     "text": [
      "Full-time\n"
     ]
    }
   ],
   "source": [
    "employment_type = input()"
   ]
  },
  {
   "cell_type": "code",
   "execution_count": 120,
   "id": "96c585d5",
   "metadata": {},
   "outputs": [
    {
     "name": "stdout",
     "output_type": "stream",
     "text": [
      "Internship\n"
     ]
    }
   ],
   "source": [
    "required_experience = input()"
   ]
  },
  {
   "cell_type": "code",
   "execution_count": 121,
   "id": "019b0348",
   "metadata": {},
   "outputs": [
    {
     "name": "stdout",
     "output_type": "stream",
     "text": [
      "Bachelor's Degree\n"
     ]
    }
   ],
   "source": [
    "required_education = input()"
   ]
  },
  {
   "cell_type": "code",
   "execution_count": 122,
   "id": "f72e3551",
   "metadata": {},
   "outputs": [
    {
     "name": "stdout",
     "output_type": "stream",
     "text": [
      "Technology\n"
     ]
    }
   ],
   "source": [
    "industry = input()"
   ]
  },
  {
   "cell_type": "code",
   "execution_count": 123,
   "id": "37e030fb",
   "metadata": {},
   "outputs": [
    {
     "name": "stdout",
     "output_type": "stream",
     "text": [
      " \n"
     ]
    }
   ],
   "source": [
    "function = input()"
   ]
  },
  {
   "cell_type": "code",
   "execution_count": 124,
   "id": "7a421133",
   "metadata": {},
   "outputs": [],
   "source": [
    "trial = pd.DataFrame({'title':title,'department':department,'company_profile':company_profile,'description':description,'requirements':requirements,'benefits':benefits,'employment_type':employment_type, \"required_experience\":required_experience, \"required_education\":required_education, \"industry\":industry, \"function\":function}, index=[0])"
   ]
  },
  {
   "cell_type": "code",
   "execution_count": 125,
   "id": "3aaea292",
   "metadata": {},
   "outputs": [
    {
     "data": {
      "text/html": [
       "<div>\n",
       "<style scoped>\n",
       "    .dataframe tbody tr th:only-of-type {\n",
       "        vertical-align: middle;\n",
       "    }\n",
       "\n",
       "    .dataframe tbody tr th {\n",
       "        vertical-align: top;\n",
       "    }\n",
       "\n",
       "    .dataframe thead th {\n",
       "        text-align: right;\n",
       "    }\n",
       "</style>\n",
       "<table border=\"1\" class=\"dataframe\">\n",
       "  <thead>\n",
       "    <tr style=\"text-align: right;\">\n",
       "      <th></th>\n",
       "      <th>title</th>\n",
       "      <th>department</th>\n",
       "      <th>company_profile</th>\n",
       "      <th>description</th>\n",
       "      <th>requirements</th>\n",
       "      <th>benefits</th>\n",
       "      <th>employment_type</th>\n",
       "      <th>required_experience</th>\n",
       "      <th>required_education</th>\n",
       "      <th>industry</th>\n",
       "      <th>function</th>\n",
       "    </tr>\n",
       "  </thead>\n",
       "  <tbody>\n",
       "    <tr>\n",
       "      <th>0</th>\n",
       "      <td>Data Analytics Intern</td>\n",
       "      <td>Cross Border eCommerce</td>\n",
       "      <td>The Cross Border team at Shopee empowers selle...</td>\n",
       "      <td>Analyse cross border performance and develop i...</td>\n",
       "      <td>Currently pursuing a Bachelor's Degree with ma...</td>\n",
       "      <td></td>\n",
       "      <td>Full-time</td>\n",
       "      <td>Internship</td>\n",
       "      <td>Bachelor's Degree</td>\n",
       "      <td>Technology</td>\n",
       "      <td></td>\n",
       "    </tr>\n",
       "  </tbody>\n",
       "</table>\n",
       "</div>"
      ],
      "text/plain": [
       "                   title              department  \\\n",
       "0  Data Analytics Intern  Cross Border eCommerce   \n",
       "\n",
       "                                     company_profile  \\\n",
       "0  The Cross Border team at Shopee empowers selle...   \n",
       "\n",
       "                                         description  \\\n",
       "0  Analyse cross border performance and develop i...   \n",
       "\n",
       "                                        requirements benefits employment_type  \\\n",
       "0  Currently pursuing a Bachelor's Degree with ma...                Full-time   \n",
       "\n",
       "  required_experience required_education    industry function  \n",
       "0          Internship  Bachelor's Degree  Technology           "
      ]
     },
     "execution_count": 125,
     "metadata": {},
     "output_type": "execute_result"
    }
   ],
   "source": [
    "trial.head()"
   ]
  },
  {
   "cell_type": "markdown",
   "id": "9fc4bdd1",
   "metadata": {},
   "source": [
    "#### Combine text columns"
   ]
  },
  {
   "cell_type": "code",
   "execution_count": 126,
   "id": "6f8c5bdf",
   "metadata": {},
   "outputs": [],
   "source": [
    "text_data=trial.select_dtypes(include=\"object\")\n",
    "text_col=text_data.columns\n",
    "trial[text_col]=trial[text_col].replace(np.nan,\"\")"
   ]
  },
  {
   "cell_type": "code",
   "execution_count": 127,
   "id": "d42c27fa",
   "metadata": {},
   "outputs": [],
   "source": [
    "trial['text'] = \"\"\n",
    "for col in text_data.columns:\n",
    "    trial[\"text\"] = trial[\"text\"] + \" \" + trial[col]"
   ]
  },
  {
   "cell_type": "code",
   "execution_count": 128,
   "id": "a2b2978e",
   "metadata": {},
   "outputs": [],
   "source": [
    "predictor = trial[['text']]"
   ]
  },
  {
   "cell_type": "code",
   "execution_count": 129,
   "id": "de0dae3c",
   "metadata": {},
   "outputs": [
    {
     "data": {
      "text/html": [
       "<div>\n",
       "<style scoped>\n",
       "    .dataframe tbody tr th:only-of-type {\n",
       "        vertical-align: middle;\n",
       "    }\n",
       "\n",
       "    .dataframe tbody tr th {\n",
       "        vertical-align: top;\n",
       "    }\n",
       "\n",
       "    .dataframe thead th {\n",
       "        text-align: right;\n",
       "    }\n",
       "</style>\n",
       "<table border=\"1\" class=\"dataframe\">\n",
       "  <thead>\n",
       "    <tr style=\"text-align: right;\">\n",
       "      <th></th>\n",
       "      <th>text</th>\n",
       "    </tr>\n",
       "  </thead>\n",
       "  <tbody>\n",
       "    <tr>\n",
       "      <th>0</th>\n",
       "      <td>Data Analytics Intern Cross Border eCommerce ...</td>\n",
       "    </tr>\n",
       "  </tbody>\n",
       "</table>\n",
       "</div>"
      ],
      "text/plain": [
       "                                                text\n",
       "0   Data Analytics Intern Cross Border eCommerce ..."
      ]
     },
     "execution_count": 129,
     "metadata": {},
     "output_type": "execute_result"
    }
   ],
   "source": [
    "predictor.head()"
   ]
  },
  {
   "cell_type": "markdown",
   "id": "b5181798",
   "metadata": {},
   "source": [
    "#### Clean the text"
   ]
  },
  {
   "cell_type": "code",
   "execution_count": 130,
   "id": "e94fd4fb",
   "metadata": {},
   "outputs": [
    {
     "name": "stderr",
     "output_type": "stream",
     "text": [
      "C:\\Users\\Pham Thuy Linh\\AppData\\Local\\Temp\\ipykernel_5968\\813550249.py:2: SettingWithCopyWarning: \n",
      "A value is trying to be set on a copy of a slice from a DataFrame.\n",
      "Try using .loc[row_indexer,col_indexer] = value instead\n",
      "\n",
      "See the caveats in the documentation: https://pandas.pydata.org/pandas-docs/stable/user_guide/indexing.html#returning-a-view-versus-a-copy\n",
      "  predictor[\"text\"]=predictor[\"text\"].apply(clean)\n"
     ]
    }
   ],
   "source": [
    "#apply clean text function\n",
    "predictor[\"text\"]=predictor[\"text\"].apply(clean)"
   ]
  },
  {
   "cell_type": "code",
   "execution_count": 131,
   "id": "50a83b32",
   "metadata": {},
   "outputs": [
    {
     "data": {
      "text/plain": [
       "'data analyt intern cross border ecommerc cross border team shope empow seller world sell southeast asia taiwan region team help seller market product across market provid enabl servic cross border logist oper payment product relat servic oversea wareh fulfil busi intellig brow cross border ecommerc team open see make impact us anali cross border perform develop insight drive factor behind figur use sql python monitor oper key perform index conduct root cau analysi key perform index fluctuat feedback local team understand current system capabl limit provid continu improv system process provid feedback collabor depart improv over oper effici current pursu bachelor degr major relev field strong analyt skill sensit data strong oral written commun skill creativ innov approach solv problem posit team player energet attitud strong knowledg microsoft excel knowledg sql python requir full time intern prefer month part time intern commit least work day week also welcom appli full time internship bachelor degr technolog'"
      ]
     },
     "execution_count": 131,
     "metadata": {},
     "output_type": "execute_result"
    }
   ],
   "source": [
    "predictor['text'][0]"
   ]
  },
  {
   "cell_type": "markdown",
   "id": "6ee0de0b",
   "metadata": {},
   "source": [
    "#### Vectorizer"
   ]
  },
  {
   "cell_type": "code",
   "execution_count": 132,
   "id": "d25de3b2",
   "metadata": {},
   "outputs": [],
   "source": [
    "X_trial = tfidf.transform(predictor['text'])"
   ]
  },
  {
   "cell_type": "markdown",
   "id": "3c025131",
   "metadata": {},
   "source": [
    "#### Predict (correct result: 0 = real)"
   ]
  },
  {
   "cell_type": "code",
   "execution_count": 133,
   "id": "af248077",
   "metadata": {},
   "outputs": [],
   "source": [
    "y_trial = model.predict(X_trial)"
   ]
  },
  {
   "cell_type": "code",
   "execution_count": 134,
   "id": "6786de39",
   "metadata": {},
   "outputs": [
    {
     "name": "stdout",
     "output_type": "stream",
     "text": [
      "[0]\n"
     ]
    }
   ],
   "source": [
    "print(y_trial)"
   ]
  },
  {
   "cell_type": "markdown",
   "id": "ea635915",
   "metadata": {},
   "source": [
    "--> **correctly predict a real job ad**"
   ]
  },
  {
   "cell_type": "markdown",
   "id": "5b67200b",
   "metadata": {},
   "source": [
    "# References"
   ]
  },
  {
   "cell_type": "markdown",
   "id": "3a015dfc",
   "metadata": {},
   "source": [
    "https://analyticsindiamag.com/classifying-fake-and-real-job-advertisements-using-machine-learning/ <br>\n",
    "https://www.kaggle.com/code/shivamburnwal/nlp-98-acc-eda-with-model-using-spacy-pipeline <br>\n",
    "https://machinelearningmastery.com/tour-of-evaluation-metrics-for-imbalanced-classification/ <br>\n",
    "https://medium.com/analytics-vidhya/applying-text-classification-using-logistic-regression-a-comparison-between-bow-and-tf-idf-1f1ed1b83640 <br>\n",
    "https://docs.streamlit.io/library/cheatsheet <br>\n",
    "https://stats.stackexchange.com/questions/251871/vectorization-of-data-before-splitting-in-to-test-and-train-with-neural-network <br>\n",
    "https://towardsdatascience.com/boosting-techniques-in-python-predicting-hotel-cancellations-62b7a76ffa6c <br>\n",
    "https://scikit-learn.org/stable/modules/generated/sklearn.metrics.fbeta_score.html <br>\n",
    "https://machinelearningmastery.com/fbeta-measure-for-machine-learning/ <br>\n",
    "https://machinelearningmastery.com/random-oversampling-and-undersampling-for-imbalanced-classification/ <br>\n",
    "https://machinelearningmastery.com/combine-oversampling-and-undersampling-for-imbalanced-classification/#:~:text=Oversampling%20methods%20duplicate%20or%20create,of%20methods%20are%20used%20together <br>\n",
    "https://towardsdatascience.com/understanding-auc-roc-curve-68b2303cc9c5#:~:text=the%20multiclass%20model%3F-,What%20is%20the%20AUC%20%2D%20ROC%20Curve%3F,capable%20of%20distinguishing%20between%20classes. <br>\n",
    "https://scikit-learn.org/stable/model_persistence.html <br>"
   ]
  }
 ],
 "metadata": {
  "kernelspec": {
   "display_name": "Python 3 (ipykernel)",
   "language": "python",
   "name": "python3"
  },
  "language_info": {
   "codemirror_mode": {
    "name": "ipython",
    "version": 3
   },
   "file_extension": ".py",
   "mimetype": "text/x-python",
   "name": "python",
   "nbconvert_exporter": "python",
   "pygments_lexer": "ipython3",
   "version": "3.9.12"
  }
 },
 "nbformat": 4,
 "nbformat_minor": 5
}
